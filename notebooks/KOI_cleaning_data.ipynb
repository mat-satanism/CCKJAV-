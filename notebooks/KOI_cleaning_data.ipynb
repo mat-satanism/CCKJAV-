{
 "cells": [
  {
   "cell_type": "markdown",
   "metadata": {
    "id": "3EoN91WqQFFu"
   },
   "source": [
    "# Setup and Data Import"
   ]
  },
  {
   "cell_type": "code",
   "execution_count": 1,
   "metadata": {
    "colab": {
     "base_uri": "https://localhost:8080/"
    },
    "id": "ztf9adMu9iDH",
    "outputId": "bea16098-4a79-46d1-c707-efaec5cda415"
   },
   "outputs": [],
   "source": [
    "import pandas as pd\n",
    "import numpy as np\n",
    "import matplotlib.pyplot as plt\n",
    "import os\n",
    "from pathlib import Path\n",
    "\n",
    "%matplotlib inline"
   ]
  },
  {
   "cell_type": "markdown",
   "metadata": {},
   "source": [
    "#    Uploads a CSV file from several possible paths:\n",
    "    - absolute path\n",
    "    - current directory\n",
    "    - ‘data’ folder on the laptop\n",
    "    - user's home directory"
   ]
  },
  {
   "cell_type": "code",
   "execution_count": 2,
   "metadata": {
    "id": "0gSC1hI7Ch6L"
   },
   "outputs": [],
   "source": [
    "def load_data(filename: str) -> pd.DataFrame:\n",
    "    path = Path(filename)\n",
    "    \n",
    "    if path.is_absolute() and path.exists():\n",
    "        print(f\"Loading absolute path: {path}\")\n",
    "        return pd.read_csv(path, comment=\"#\")\n",
    "    \n",
    "    candidates = [\n",
    "        Path(filename),\n",
    "        Path(\"data\") / filename,\n",
    "        Path.cwd() / filename,\n",
    "        Path.cwd() / \"data\" / filename,\n",
    "        Path.home() / \"data\" / filename\n",
    "    ]\n",
    "    \n",
    "    for candidate in candidates:\n",
    "        if candidate.exists():\n",
    "            print(f\"Loading: {candidate}\")\n",
    "            return pd.read_csv(candidate, comment=\"#\")\n",
    "    \n",
    "    raise FileNotFoundError(\n",
    "        f\"❌ File '{filename}' not found in any of:\\n\" + \"\\n\".join(str(p) for p in candidates)\n",
    "    )"
   ]
  },
  {
   "cell_type": "markdown",
   "metadata": {},
   "source": [
    "#    Saves the DataFrame in several possible locations:\n",
    "    - local data folder on the laptop\n",
    "    - user's home directory in the data subfolder"
   ]
  },
  {
   "cell_type": "code",
   "execution_count": 3,
   "metadata": {
    "id": "DgdkjXr7Bqp7"
   },
   "outputs": [],
   "source": [
    "def save_data(df: pd.DataFrame, filename: str):\n",
    "    candidates = [\n",
    "        Path(\"data\"),\n",
    "        Path.home() / \"data\"\n",
    "    ]\n",
    "    \n",
    "    for base in candidates:\n",
    "        try:\n",
    "            base.mkdir(parents=True, exist_ok=True)\n",
    "            out_path = base / filename\n",
    "            df.to_csv(out_path, index=False)\n",
    "            print(f\"✅ File saved to: {out_path}\")\n",
    "            return\n",
    "        except Exception as e:\n",
    "            print(f\"⚠️ Could not save to {base}: {e}\")\n",
    "    \n",
    "    raise IOError(\"❌ Failed to save the file in any of the candidate locations.\")"
   ]
  },
  {
   "cell_type": "markdown",
   "metadata": {
    "id": "8Aad2S8GNain"
   },
   "source": [
    "# Core dataset for Model\n",
    "\n",
    "\n"
   ]
  },
  {
   "cell_type": "markdown",
   "metadata": {
    "id": "_dwzv9SANimn"
   },
   "source": [
    "## Select minimal set of relevant columns"
   ]
  },
  {
   "cell_type": "code",
   "execution_count": 4,
   "metadata": {
    "colab": {
     "base_uri": "https://localhost:8080/",
     "height": 441
    },
    "id": "tZtAzTeQN3p1",
    "outputId": "ff9d8a3b-5680-42a7-ab56-bddab29617fb"
   },
   "outputs": [
    {
     "name": "stdout",
     "output_type": "stream",
     "text": [
      "Loading: data/raw/KOI_raw_2025.10.01.csv\n"
     ]
    },
    {
     "data": {
      "text/html": [
       "<div>\n",
       "<style scoped>\n",
       "    .dataframe tbody tr th:only-of-type {\n",
       "        vertical-align: middle;\n",
       "    }\n",
       "\n",
       "    .dataframe tbody tr th {\n",
       "        vertical-align: top;\n",
       "    }\n",
       "\n",
       "    .dataframe thead th {\n",
       "        text-align: right;\n",
       "    }\n",
       "</style>\n",
       "<table border=\"1\" class=\"dataframe\">\n",
       "  <thead>\n",
       "    <tr style=\"text-align: right;\">\n",
       "      <th></th>\n",
       "      <th>kepoi_name</th>\n",
       "      <th>koi_disposition</th>\n",
       "      <th>koi_period</th>\n",
       "      <th>koi_duration</th>\n",
       "      <th>koi_depth</th>\n",
       "      <th>koi_prad</th>\n",
       "      <th>koi_steff</th>\n",
       "      <th>koi_slogg</th>\n",
       "      <th>koi_srad</th>\n",
       "      <th>koi_kepmag</th>\n",
       "    </tr>\n",
       "  </thead>\n",
       "  <tbody>\n",
       "    <tr>\n",
       "      <th>0</th>\n",
       "      <td>K00752.01</td>\n",
       "      <td>CONFIRMED</td>\n",
       "      <td>9.488036</td>\n",
       "      <td>2.95750</td>\n",
       "      <td>615.8</td>\n",
       "      <td>2.26</td>\n",
       "      <td>5455.0</td>\n",
       "      <td>4.467</td>\n",
       "      <td>0.927</td>\n",
       "      <td>15.347</td>\n",
       "    </tr>\n",
       "    <tr>\n",
       "      <th>1</th>\n",
       "      <td>K00752.02</td>\n",
       "      <td>CONFIRMED</td>\n",
       "      <td>54.418383</td>\n",
       "      <td>4.50700</td>\n",
       "      <td>874.8</td>\n",
       "      <td>2.83</td>\n",
       "      <td>5455.0</td>\n",
       "      <td>4.467</td>\n",
       "      <td>0.927</td>\n",
       "      <td>15.347</td>\n",
       "    </tr>\n",
       "    <tr>\n",
       "      <th>2</th>\n",
       "      <td>K00753.01</td>\n",
       "      <td>CANDIDATE</td>\n",
       "      <td>19.899140</td>\n",
       "      <td>1.78220</td>\n",
       "      <td>10829.0</td>\n",
       "      <td>14.60</td>\n",
       "      <td>5853.0</td>\n",
       "      <td>4.544</td>\n",
       "      <td>0.868</td>\n",
       "      <td>15.436</td>\n",
       "    </tr>\n",
       "    <tr>\n",
       "      <th>3</th>\n",
       "      <td>K00754.01</td>\n",
       "      <td>FALSE POSITIVE</td>\n",
       "      <td>1.736952</td>\n",
       "      <td>2.40641</td>\n",
       "      <td>8079.2</td>\n",
       "      <td>33.46</td>\n",
       "      <td>5805.0</td>\n",
       "      <td>4.564</td>\n",
       "      <td>0.791</td>\n",
       "      <td>15.597</td>\n",
       "    </tr>\n",
       "    <tr>\n",
       "      <th>4</th>\n",
       "      <td>K00755.01</td>\n",
       "      <td>CONFIRMED</td>\n",
       "      <td>2.525592</td>\n",
       "      <td>1.65450</td>\n",
       "      <td>603.3</td>\n",
       "      <td>2.75</td>\n",
       "      <td>6031.0</td>\n",
       "      <td>4.438</td>\n",
       "      <td>1.046</td>\n",
       "      <td>15.509</td>\n",
       "    </tr>\n",
       "    <tr>\n",
       "      <th>...</th>\n",
       "      <td>...</td>\n",
       "      <td>...</td>\n",
       "      <td>...</td>\n",
       "      <td>...</td>\n",
       "      <td>...</td>\n",
       "      <td>...</td>\n",
       "      <td>...</td>\n",
       "      <td>...</td>\n",
       "      <td>...</td>\n",
       "      <td>...</td>\n",
       "    </tr>\n",
       "    <tr>\n",
       "      <th>9559</th>\n",
       "      <td>K07985.01</td>\n",
       "      <td>FALSE POSITIVE</td>\n",
       "      <td>0.527699</td>\n",
       "      <td>3.22210</td>\n",
       "      <td>1579.2</td>\n",
       "      <td>29.35</td>\n",
       "      <td>5638.0</td>\n",
       "      <td>4.529</td>\n",
       "      <td>0.903</td>\n",
       "      <td>14.082</td>\n",
       "    </tr>\n",
       "    <tr>\n",
       "      <th>9560</th>\n",
       "      <td>K07986.01</td>\n",
       "      <td>CANDIDATE</td>\n",
       "      <td>1.739849</td>\n",
       "      <td>3.11400</td>\n",
       "      <td>48.5</td>\n",
       "      <td>0.72</td>\n",
       "      <td>6119.0</td>\n",
       "      <td>4.444</td>\n",
       "      <td>1.031</td>\n",
       "      <td>14.757</td>\n",
       "    </tr>\n",
       "    <tr>\n",
       "      <th>9561</th>\n",
       "      <td>K07987.01</td>\n",
       "      <td>FALSE POSITIVE</td>\n",
       "      <td>0.681402</td>\n",
       "      <td>0.86500</td>\n",
       "      <td>103.6</td>\n",
       "      <td>1.07</td>\n",
       "      <td>6173.0</td>\n",
       "      <td>4.447</td>\n",
       "      <td>1.041</td>\n",
       "      <td>15.385</td>\n",
       "    </tr>\n",
       "    <tr>\n",
       "      <th>9562</th>\n",
       "      <td>K07988.01</td>\n",
       "      <td>CANDIDATE</td>\n",
       "      <td>333.486169</td>\n",
       "      <td>3.19900</td>\n",
       "      <td>639.1</td>\n",
       "      <td>19.30</td>\n",
       "      <td>4989.0</td>\n",
       "      <td>2.992</td>\n",
       "      <td>7.824</td>\n",
       "      <td>10.998</td>\n",
       "    </tr>\n",
       "    <tr>\n",
       "      <th>9563</th>\n",
       "      <td>K07989.01</td>\n",
       "      <td>FALSE POSITIVE</td>\n",
       "      <td>4.856035</td>\n",
       "      <td>3.07800</td>\n",
       "      <td>76.7</td>\n",
       "      <td>1.05</td>\n",
       "      <td>6469.0</td>\n",
       "      <td>4.385</td>\n",
       "      <td>1.193</td>\n",
       "      <td>14.826</td>\n",
       "    </tr>\n",
       "  </tbody>\n",
       "</table>\n",
       "<p>9564 rows × 10 columns</p>\n",
       "</div>"
      ],
      "text/plain": [
       "     kepoi_name koi_disposition  koi_period  koi_duration  koi_depth  \\\n",
       "0     K00752.01       CONFIRMED    9.488036       2.95750      615.8   \n",
       "1     K00752.02       CONFIRMED   54.418383       4.50700      874.8   \n",
       "2     K00753.01       CANDIDATE   19.899140       1.78220    10829.0   \n",
       "3     K00754.01  FALSE POSITIVE    1.736952       2.40641     8079.2   \n",
       "4     K00755.01       CONFIRMED    2.525592       1.65450      603.3   \n",
       "...         ...             ...         ...           ...        ...   \n",
       "9559  K07985.01  FALSE POSITIVE    0.527699       3.22210     1579.2   \n",
       "9560  K07986.01       CANDIDATE    1.739849       3.11400       48.5   \n",
       "9561  K07987.01  FALSE POSITIVE    0.681402       0.86500      103.6   \n",
       "9562  K07988.01       CANDIDATE  333.486169       3.19900      639.1   \n",
       "9563  K07989.01  FALSE POSITIVE    4.856035       3.07800       76.7   \n",
       "\n",
       "      koi_prad  koi_steff  koi_slogg  koi_srad  koi_kepmag  \n",
       "0         2.26     5455.0      4.467     0.927      15.347  \n",
       "1         2.83     5455.0      4.467     0.927      15.347  \n",
       "2        14.60     5853.0      4.544     0.868      15.436  \n",
       "3        33.46     5805.0      4.564     0.791      15.597  \n",
       "4         2.75     6031.0      4.438     1.046      15.509  \n",
       "...        ...        ...        ...       ...         ...  \n",
       "9559     29.35     5638.0      4.529     0.903      14.082  \n",
       "9560      0.72     6119.0      4.444     1.031      14.757  \n",
       "9561      1.07     6173.0      4.447     1.041      15.385  \n",
       "9562     19.30     4989.0      2.992     7.824      10.998  \n",
       "9563      1.05     6469.0      4.385     1.193      14.826  \n",
       "\n",
       "[9564 rows x 10 columns]"
      ]
     },
     "execution_count": 4,
     "metadata": {},
     "output_type": "execute_result"
    }
   ],
   "source": [
    "koi = load_data(\"raw/KOI_raw_2025.10.01.csv\")\n",
    "\n",
    "needed_cols = [\n",
    "    \"kepoi_name\",\n",
    "    \"koi_disposition\",\n",
    "    \"koi_period\",\n",
    "    \"koi_duration\",\n",
    "    \"koi_depth\",\n",
    "    \"koi_prad\",\n",
    "    \"koi_steff\",\n",
    "    \"koi_slogg\",\n",
    "    \"koi_srad\",\n",
    "    \"koi_kepmag\"\n",
    "]\n",
    "\n",
    "koi_learning = koi[needed_cols].copy()\n",
    "koi_learning"
   ]
  },
  {
   "cell_type": "code",
   "execution_count": 5,
   "metadata": {
    "colab": {
     "base_uri": "https://localhost:8080/"
    },
    "id": "smWHBW6qQVMm",
    "outputId": "d8b00e8f-37fc-4326-fc84-e68f8b70a170"
   },
   "outputs": [
    {
     "name": "stdout",
     "output_type": "stream",
     "text": [
      "<class 'pandas.core.frame.DataFrame'>\n",
      "RangeIndex: 9564 entries, 0 to 9563\n",
      "Data columns (total 10 columns):\n",
      " #   Column           Non-Null Count  Dtype  \n",
      "---  ------           --------------  -----  \n",
      " 0   kepoi_name       9564 non-null   object \n",
      " 1   koi_disposition  9564 non-null   object \n",
      " 2   koi_period       9564 non-null   float64\n",
      " 3   koi_duration     9564 non-null   float64\n",
      " 4   koi_depth        9201 non-null   float64\n",
      " 5   koi_prad         9201 non-null   float64\n",
      " 6   koi_steff        9201 non-null   float64\n",
      " 7   koi_slogg        9201 non-null   float64\n",
      " 8   koi_srad         9201 non-null   float64\n",
      " 9   koi_kepmag       9563 non-null   float64\n",
      "dtypes: float64(8), object(2)\n",
      "memory usage: 747.3+ KB\n",
      "None\n",
      "          koi_period  koi_duration     koi_depth       koi_prad     koi_steff  \\\n",
      "count    9564.000000   9564.000000  9.201000e+03    9201.000000   9201.000000   \n",
      "mean       75.671358      5.621606  2.379134e+04     102.891778   5706.823280   \n",
      "std      1334.744046      6.471554  8.224268e+04    3077.639126    796.857947   \n",
      "min         0.241843      0.052000  0.000000e+00       0.080000   2661.000000   \n",
      "25%         2.733684      2.437750  1.599000e+02       1.400000   5310.000000   \n",
      "50%         9.752831      3.792600  4.211000e+02       2.390000   5767.000000   \n",
      "75%        40.715178      6.276500  1.473400e+03      14.930000   6112.000000   \n",
      "max    129995.778400    138.540000  1.541400e+06  200346.000000  15896.000000   \n",
      "\n",
      "         koi_slogg     koi_srad   koi_kepmag  \n",
      "count  9201.000000  9201.000000  9563.000000  \n",
      "mean      4.310157     1.728712    14.264606  \n",
      "std       0.432606     6.127185     1.385448  \n",
      "min       0.047000     0.109000     6.966000  \n",
      "25%       4.218000     0.829000    13.440000  \n",
      "50%       4.438000     1.000000    14.520000  \n",
      "75%       4.543000     1.345000    15.322000  \n",
      "max       5.364000   229.908000    20.003000  \n"
     ]
    }
   ],
   "source": [
    "print(koi_learning.info())\n",
    "print(koi_learning.describe())\n"
   ]
  },
  {
   "cell_type": "markdown",
   "metadata": {
    "id": "9oX3ypCoRZYa"
   },
   "source": [
    "## Missing Value Handling"
   ]
  },
  {
   "cell_type": "code",
   "execution_count": 6,
   "metadata": {
    "colab": {
     "base_uri": "https://localhost:8080/"
    },
    "id": "4PxlkRvWRhlX",
    "outputId": "3219d10f-7c2a-4ac4-8854-99ffd7e9acb2",
    "scrolled": true
   },
   "outputs": [
    {
     "name": "stdout",
     "output_type": "stream",
     "text": [
      "                 Missing Values  Percent (%)\n",
      "kepoi_name                    0     0.000000\n",
      "koi_disposition               0     0.000000\n",
      "koi_period                    0     0.000000\n",
      "koi_duration                  0     0.000000\n",
      "koi_depth                   363     3.795483\n",
      "koi_prad                    363     3.795483\n",
      "koi_steff                   363     3.795483\n",
      "koi_slogg                   363     3.795483\n",
      "koi_srad                    363     3.795483\n",
      "koi_kepmag                    1     0.010456\n"
     ]
    }
   ],
   "source": [
    "missing = koi_learning.isna().sum()\n",
    "missing_percent = (missing / len(koi_learning)) * 100\n",
    "\n",
    "missing_table = pd.DataFrame({\n",
    "    \"Missing Values\": missing,\n",
    "    \"Percent (%)\": missing_percent\n",
    "})\n",
    "\n",
    "print(missing_table)\n"
   ]
  },
  {
   "cell_type": "markdown",
   "metadata": {},
   "source": [
    "# Data Cleaning and Missing Value Imputation for KOI Dataset"
   ]
  },
  {
   "cell_type": "code",
   "execution_count": 7,
   "metadata": {
    "colab": {
     "base_uri": "https://localhost:8080/"
    },
    "id": "N3W6CiGvUTa2",
    "outputId": "6ba242f1-2f7f-4cae-ba78-9aa4b1e50039"
   },
   "outputs": [
    {
     "name": "stdout",
     "output_type": "stream",
     "text": [
      "Missing values before imputation:\n",
      "                 Before Imputation\n",
      "kepoi_name                       0\n",
      "koi_disposition                  0\n",
      "koi_period                       0\n",
      "koi_duration                     0\n",
      "koi_depth                      363\n",
      "koi_prad                       363\n",
      "koi_steff                      363\n",
      "koi_slogg                      363\n",
      "koi_srad                       363\n",
      "koi_kepmag                       1\n",
      "\n",
      "Missing values after imputation:\n",
      "                 Before Imputation  After Imputation\n",
      "kepoi_name                       0                 0\n",
      "koi_disposition                  0                 0\n",
      "koi_period                       0                 0\n",
      "koi_duration                     0                 0\n",
      "koi_depth                      363                 0\n",
      "koi_prad                       363                 0\n",
      "koi_steff                      363                 0\n",
      "koi_slogg                      363                 0\n",
      "koi_srad                       363                 0\n",
      "koi_kepmag                       1                 0\n",
      "✅ File saved to: data/cleaned/KOI_clean_for_learning.csv\n"
     ]
    }
   ],
   "source": [
    "initial_rows = len(koi_learning)\n",
    "initial_cols = len(koi_learning.columns)\n",
    "\n",
    "missing_control_df = pd.DataFrame(index=needed_cols)\n",
    "missing_control_df[\"Before Imputation\"] = koi_learning.isnull().sum()\n",
    "print(\"Missing values before imputation:\")\n",
    "print(missing_control_df)\n",
    "\n",
    "rows_dropped = koi_learning[\"koi_kepmag\"].isnull().sum() \n",
    "koi_learning = koi_learning.dropna(subset=[\"koi_kepmag\"]).copy()\n",
    "\n",
    "assert 'NOT DISPOSITIONED' not in koi_learning['koi_disposition'].unique(), \"The 'NOT DISPOSITIONED' value is still present.\"\n",
    "\n",
    "cols = [\"koi_depth\", \"koi_prad\", \"koi_srad\", \"koi_steff\", \"koi_slogg\"]\n",
    "imputed_cols = [f\"{col}_missing\" for col in cols] \n",
    "\n",
    "for col in cols:\n",
    "    koi_learning.loc[:, f\"{col}_missing\"] = koi_learning[col].isna().astype(\"int8\")\n",
    "    koi_learning.loc[:, col] = koi_learning[col].fillna(koi_learning[col].mode()[0])\n",
    "\n",
    "missing_control_df[\"After Imputation\"] = koi_learning.isnull().sum()\n",
    "print(\"\\nMissing values after imputation:\")\n",
    "print(missing_control_df)\n",
    "\n",
    "save_data(koi_learning, \"cleaned/KOI_clean_for_learning.csv\")\n"
   ]
  },
  {
   "cell_type": "markdown",
   "metadata": {
    "id": "3ku6SC48Tcoi"
   },
   "source": [
    "## Outlier Handling"
   ]
  },
  {
   "cell_type": "code",
   "execution_count": 8,
   "metadata": {
    "colab": {
     "base_uri": "https://localhost:8080/",
     "height": 618
    },
    "id": "kVZ7TzfrXykC",
    "outputId": "17cfbaba-9d5b-4b42-88ee-7b778425ee72"
   },
   "outputs": [
    {
     "data": {
      "text/plain": [
       "<Figure size 1200x600 with 0 Axes>"
      ]
     },
     "metadata": {},
     "output_type": "display_data"
    },
    {
     "data": {
      "image/png": "[encoded data removed]",
      "text/plain": [
       "<Figure size 1200x600 with 1 Axes>"
      ]
     },
     "metadata": {},
     "output_type": "display_data"
    }
   ],
   "source": [
    "# Visualization of numeric columns to identify skewed distributions and potential outliers.\n",
    "num_cols = [\"koi_period\",\"koi_duration\",\"koi_depth\",\"koi_prad\",\n",
    "            \"koi_steff\",\"koi_slogg\",\"koi_srad\",\"koi_kepmag\"]\n",
    "\n",
    "plt.figure(figsize=(12,6))\n",
    "koi_learning[num_cols].plot(kind=\"box\", subplots=False, logy=True, figsize=(12,6))\n",
    "plt.title(\"Boxplot of numeric features\")\n",
    "plt.xticks(rotation=45)\n",
    "plt.show()\n"
   ]
  },
  {
   "cell_type": "code",
   "execution_count": 9,
   "metadata": {
    "colab": {
     "base_uri": "https://localhost:8080/"
    },
    "id": "oqtiFSHC6gCe",
    "outputId": "2e7d1998-8b99-496a-8526-486c7d918e6e"
   },
   "outputs": [
    {
     "name": "stdout",
     "output_type": "stream",
     "text": [
      "✅ File saved to: data/cleaned/KOI_clean_for_learning.csv\n"
     ]
    }
   ],
   "source": [
    "# Log Transformation of skewed features\n",
    "log_cols = [\"koi_period\", \"koi_depth\", \"koi_prad\", \"koi_srad\"]\n",
    "\n",
    "for col in log_cols:\n",
    "  koi_learning.loc[:, f\"{col}_log\"] = np.log1p(koi_learning[col])\n",
    "\n",
    "assert np.all(np.isfinite(koi_learning[[f\"{col}_log\" for col in log_cols]].values)), \"Log-transformed values contain non-finite numbers.\"\n",
    "\n",
    "save_data(koi_learning, \"cleaned/KOI_clean_for_learning.csv\")"
   ]
  },
  {
   "cell_type": "code",
   "execution_count": 10,
   "metadata": {
    "colab": {
     "base_uri": "https://localhost:8080/",
     "height": 628
    },
    "id": "wpr9I-Aa9DNA",
    "outputId": "1daa6c3a-f1da-459a-bb3d-8d954d88d87c"
   },
   "outputs": [
    {
     "data": {
      "text/plain": [
       "<Figure size 1200x600 with 0 Axes>"
      ]
     },
     "metadata": {},
     "output_type": "display_data"
    },
    {
     "data": {
      "image/png": "[encoded data removed]",
      "text/plain": [
       "<Figure size 1200x600 with 1 Axes>"
      ]
     },
     "metadata": {},
     "output_type": "display_data"
    }
   ],
   "source": [
    "final_cols = [\"koi_period_log\", \"koi_duration\", \"koi_depth_log\", \"koi_prad_log\", \"koi_steff\",\n",
    "              \"koi_slogg\", \"koi_srad_log\", \"koi_kepmag\"]\n",
    "\n",
    "assert all(col in koi_learning.columns for col in final_cols), \"Some of the required columns are missing from the dataframe.\"\n",
    "\n",
    "plt.figure(figsize=(12,6))\n",
    "koi_learning[final_cols].plot(kind=\"box\", logy=True, figsize=(12,6))\n",
    "plt.title(\"Boxplots after log-transformation\")\n",
    "plt.xticks(rotation=45)\n",
    "plt.show()"
   ]
  },
  {
   "cell_type": "code",
   "execution_count": 11,
   "metadata": {
    "colab": {
     "base_uri": "https://localhost:8080/"
    },
    "id": "wAGcWhTZ_cpf",
    "outputId": "6c64a60b-c089-4f20-c611-697348e857ca"
   },
   "outputs": [
    {
     "name": "stdout",
     "output_type": "stream",
     "text": [
      "<class 'pandas.core.frame.DataFrame'>\n",
      "Index: 9563 entries, 0 to 9563\n",
      "Data columns (total 19 columns):\n",
      " #   Column             Non-Null Count  Dtype  \n",
      "---  ------             --------------  -----  \n",
      " 0   kepoi_name         9563 non-null   object \n",
      " 1   koi_disposition    9563 non-null   object \n",
      " 2   koi_period         9563 non-null   float64\n",
      " 3   koi_duration       9563 non-null   float64\n",
      " 4   koi_depth          9563 non-null   float64\n",
      " 5   koi_prad           9563 non-null   float64\n",
      " 6   koi_steff          9563 non-null   float64\n",
      " 7   koi_slogg          9563 non-null   float64\n",
      " 8   koi_srad           9563 non-null   float64\n",
      " 9   koi_kepmag         9563 non-null   float64\n",
      " 10  koi_depth_missing  9563 non-null   int8   \n",
      " 11  koi_prad_missing   9563 non-null   int8   \n",
      " 12  koi_srad_missing   9563 non-null   int8   \n",
      " 13  koi_steff_missing  9563 non-null   int8   \n",
      " 14  koi_slogg_missing  9563 non-null   int8   \n",
      " 15  koi_period_log     9563 non-null   float64\n",
      " 16  koi_depth_log      9563 non-null   float64\n",
      " 17  koi_prad_log       9563 non-null   float64\n",
      " 18  koi_srad_log       9563 non-null   float64\n",
      "dtypes: float64(12), int8(5), object(2)\n",
      "memory usage: 1.1+ MB\n"
     ]
    }
   ],
   "source": [
    "koi_learning.info()"
   ]
  },
  {
   "cell_type": "code",
   "execution_count": 12,
   "metadata": {
    "colab": {
     "base_uri": "https://localhost:8080/"
    },
    "id": "EHtlPDJhAL_8",
    "outputId": "d42e11fd-4fc6-4ffa-ef8d-cdd3f9bdbb38"
   },
   "outputs": [
    {
     "name": "stdout",
     "output_type": "stream",
     "text": [
      "✅ File saved to: data/cleaned/KOI_clean_for_learning.csv\n"
     ]
    }
   ],
   "source": [
    "save_data(koi_learning, \"cleaned/KOI_clean_for_learning.csv\")"
   ]
  },
  {
   "cell_type": "markdown",
   "metadata": {
    "id": "eLcSf2W9XOcL"
   },
   "source": [
    "# Extended dataset with Optional columns"
   ]
  },
  {
   "cell_type": "code",
   "execution_count": 13,
   "metadata": {
    "colab": {
     "base_uri": "https://localhost:8080/"
    },
    "id": "-Wny2yN1Xs5F",
    "outputId": "c2a0e73f-9293-4bfb-ca95-e2174212e3e0"
   },
   "outputs": [
    {
     "name": "stdout",
     "output_type": "stream",
     "text": [
      "✅ File saved to: data/cleaned/KOI_clean_with_optional.csv\n",
      "<class 'pandas.core.frame.DataFrame'>\n",
      "Index: 9563 entries, 0 to 9563\n",
      "Data columns (total 25 columns):\n",
      " #   Column             Non-Null Count  Dtype  \n",
      "---  ------             --------------  -----  \n",
      " 0   kepoi_name         9563 non-null   object \n",
      " 1   koi_disposition    9563 non-null   object \n",
      " 2   koi_period         9563 non-null   float64\n",
      " 3   koi_duration       9563 non-null   float64\n",
      " 4   koi_depth          9563 non-null   float64\n",
      " 5   koi_prad           9563 non-null   float64\n",
      " 6   koi_steff          9563 non-null   float64\n",
      " 7   koi_slogg          9563 non-null   float64\n",
      " 8   koi_srad           9563 non-null   float64\n",
      " 9   koi_kepmag         9563 non-null   float64\n",
      " 10  koi_depth_missing  9563 non-null   int8   \n",
      " 11  koi_prad_missing   9563 non-null   int8   \n",
      " 12  koi_srad_missing   9563 non-null   int8   \n",
      " 13  koi_steff_missing  9563 non-null   int8   \n",
      " 14  koi_slogg_missing  9563 non-null   int8   \n",
      " 15  koi_period_log     9563 non-null   float64\n",
      " 16  koi_depth_log      9563 non-null   float64\n",
      " 17  koi_prad_log       9563 non-null   float64\n",
      " 18  koi_srad_log       9563 non-null   float64\n",
      " 19  koi_impact         9200 non-null   float64\n",
      " 20  koi_model_snr      9200 non-null   float64\n",
      " 21  koi_fpflag_nt      9563 non-null   int64  \n",
      " 22  koi_fpflag_ss      9563 non-null   int64  \n",
      " 23  koi_fpflag_co      9563 non-null   int64  \n",
      " 24  koi_fpflag_ec      9563 non-null   int64  \n",
      "dtypes: float64(14), int64(4), int8(5), object(2)\n",
      "memory usage: 1.6+ MB\n"
     ]
    }
   ],
   "source": [
    "# Define optional diagnostic/flag columns\n",
    "optional_cols = [\"koi_impact\", \"koi_model_snr\",\n",
    "                 \"koi_fpflag_nt\", \"koi_fpflag_ss\",\n",
    "                 \"koi_fpflag_co\",\"koi_fpflag_ec\"]\n",
    "\n",
    "koi_extended = koi_learning.copy()\n",
    "\n",
    "for col in optional_cols:\n",
    "    if col in koi.columns:\n",
    "        koi_extended[col] = koi[col]\n",
    "\n",
    "save_data(koi_extended, \"cleaned/KOI_clean_with_optional.csv\")\n",
    "\n",
    "koi_extended.info()"
   ]
  },
  {
   "cell_type": "markdown",
   "metadata": {},
   "source": [
    "# Data card summarizing the final dataset in markdown format\n",
    "### Data Card: KOI Cleaned Dataset\n",
    "\n",
    "**Source Date:** 2025.10.01 (Raw data)\n",
    "\n",
    "**Key Fields:**\n",
    "- `kepoi_name`: Kepler Object of Interest identifier\n",
    "- `koi_disposition`: Label for the candidate (CANDIDATE, FALSE POSITIVE, CONFIRMED)\n",
    "- `koi_period`: Orbital Period [days]\n",
    "- `koi_duration`: Transit Duration [hours]\n",
    "- `koi_depth`: Transit Depth [parts per million]\n",
    "- `koi_prad`: Planetary Radius [Earth radii]\n",
    "- `koi_steff`: Stellar Effective Temperature [K]\n",
    "- `koi_slogg`: Stellar Surface Gravity [log10(cm/s^2)]\n",
    "- `koi_srad`: Stellar Radius [Solar radii]\n",
    "- `koi_kepmag`: Kepler Magnitude [mag]\n",
    "\n",
    "**Derived Fields:**\n",
    "- `*_missing`: Binary flags indicating imputed values\n",
    "- `*_log`: Log-transformed numeric features to handle skewness\n",
    "\n",
    "**Known Limitations:**\n",
    "- Data represents a snapshot as of 2025.10.01 and may be subject to future updates.\n",
    "- Some features had missing values, which were imputed with the mode. This might introduce a slight bias.\n",
    "- The `koi_disposition` column is a simplified label for the purpose of this analysis. More detailed classifications may exist in other datasets.\n",
    "- Log transformations were applied to address skewed distributions, which may affect the interpretability of raw values."
   ]
  }
 ],
 "metadata": {
  "colab": {
   "provenance": []
  },
  "kernelspec": {
   "display_name": "Python 3 (ipykernel)",
   "language": "python",
   "name": "python3"
  },
  "language_info": {
   "codemirror_mode": {
    "name": "ipython",
    "version": 3
   },
   "file_extension": ".py",
   "mimetype": "text/x-python",
   "name": "python",
   "nbconvert_exporter": "python",
   "pygments_lexer": "ipython3",
   "version": "3.13.0"
  }
 },
 "nbformat": 4,
 "nbformat_minor": 4
}
