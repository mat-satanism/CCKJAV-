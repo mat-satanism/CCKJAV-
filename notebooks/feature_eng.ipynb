{
 "cells": [
  {
   "cell_type": "code",
   "execution_count": 1,
   "id": "c29985a8-ad1e-4f57-ab7c-8b068f048313",
   "metadata": {},
   "outputs": [],
   "source": [
    "import pandas as pd\n",
    "import numpy as np\n",
    "import seaborn as sns\n",
    "import matplotlib.pyplot as plt\n",
    "%matplotlib inline"
   ]
  },
  {
   "cell_type": "code",
   "execution_count": 2,
   "id": "d310a6ae-0e94-4f23-8cf6-f54f7a042caa",
   "metadata": {},
   "outputs": [],
   "source": [
    "df=pd.read_csv(r'TESS.csv', comment='#' )"
   ]
  },
  {
   "cell_type": "code",
   "execution_count": 3,
   "id": "891e8669-efa1-48ea-bdcf-165fd070788a",
   "metadata": {},
   "outputs": [
    {
     "data": {
      "text/html": [
       "<div>\n",
       "<style scoped>\n",
       "    .dataframe tbody tr th:only-of-type {\n",
       "        vertical-align: middle;\n",
       "    }\n",
       "\n",
       "    .dataframe tbody tr th {\n",
       "        vertical-align: top;\n",
       "    }\n",
       "\n",
       "    .dataframe thead th {\n",
       "        text-align: right;\n",
       "    }\n",
       "</style>\n",
       "<table border=\"1\" class=\"dataframe\">\n",
       "  <thead>\n",
       "    <tr style=\"text-align: right;\">\n",
       "      <th></th>\n",
       "      <th>toi</th>\n",
       "      <th>tid</th>\n",
       "      <th>tfopwg_disp</th>\n",
       "      <th>rastr</th>\n",
       "      <th>ra</th>\n",
       "      <th>decstr</th>\n",
       "      <th>dec</th>\n",
       "      <th>st_pmra</th>\n",
       "      <th>st_pmraerr1</th>\n",
       "      <th>st_pmraerr2</th>\n",
       "      <th>...</th>\n",
       "      <th>st_logg</th>\n",
       "      <th>st_loggerr1</th>\n",
       "      <th>st_loggerr2</th>\n",
       "      <th>st_logglim</th>\n",
       "      <th>st_rad</th>\n",
       "      <th>st_raderr1</th>\n",
       "      <th>st_raderr2</th>\n",
       "      <th>st_radlim</th>\n",
       "      <th>toi_created</th>\n",
       "      <th>rowupdate</th>\n",
       "    </tr>\n",
       "  </thead>\n",
       "  <tbody>\n",
       "    <tr>\n",
       "      <th>0</th>\n",
       "      <td>1000.01</td>\n",
       "      <td>50365310</td>\n",
       "      <td>FP</td>\n",
       "      <td>07h29m25.85s</td>\n",
       "      <td>112.357708</td>\n",
       "      <td>-12d41m45.46s</td>\n",
       "      <td>-12.695960</td>\n",
       "      <td>-5.964</td>\n",
       "      <td>0.085</td>\n",
       "      <td>-0.085</td>\n",
       "      <td>...</td>\n",
       "      <td>4.19</td>\n",
       "      <td>0.07</td>\n",
       "      <td>-0.07</td>\n",
       "      <td>0</td>\n",
       "      <td>2.16986</td>\n",
       "      <td>0.072573</td>\n",
       "      <td>-0.072573</td>\n",
       "      <td>0</td>\n",
       "      <td>2019-07-24 15:58:33</td>\n",
       "      <td>2024-09-09 10:08:01</td>\n",
       "    </tr>\n",
       "    <tr>\n",
       "      <th>1</th>\n",
       "      <td>1001.01</td>\n",
       "      <td>88863718</td>\n",
       "      <td>PC</td>\n",
       "      <td>08h10m19.31s</td>\n",
       "      <td>122.580465</td>\n",
       "      <td>-05d30m49.87s</td>\n",
       "      <td>-5.513852</td>\n",
       "      <td>-4.956</td>\n",
       "      <td>0.102</td>\n",
       "      <td>-0.102</td>\n",
       "      <td>...</td>\n",
       "      <td>4.03</td>\n",
       "      <td>0.09</td>\n",
       "      <td>-0.09</td>\n",
       "      <td>0</td>\n",
       "      <td>2.01000</td>\n",
       "      <td>0.090000</td>\n",
       "      <td>-0.090000</td>\n",
       "      <td>0</td>\n",
       "      <td>2019-07-24 15:58:33</td>\n",
       "      <td>2023-04-03 14:31:04</td>\n",
       "    </tr>\n",
       "    <tr>\n",
       "      <th>2</th>\n",
       "      <td>1002.01</td>\n",
       "      <td>124709665</td>\n",
       "      <td>FP</td>\n",
       "      <td>06h58m54.47s</td>\n",
       "      <td>104.726966</td>\n",
       "      <td>-10d34m49.64s</td>\n",
       "      <td>-10.580455</td>\n",
       "      <td>-1.462</td>\n",
       "      <td>0.206</td>\n",
       "      <td>-0.206</td>\n",
       "      <td>...</td>\n",
       "      <td>NaN</td>\n",
       "      <td>NaN</td>\n",
       "      <td>NaN</td>\n",
       "      <td>0</td>\n",
       "      <td>5.73000</td>\n",
       "      <td>NaN</td>\n",
       "      <td>NaN</td>\n",
       "      <td>0</td>\n",
       "      <td>2019-07-24 15:58:33</td>\n",
       "      <td>2022-07-11 16:02:02</td>\n",
       "    </tr>\n",
       "    <tr>\n",
       "      <th>3</th>\n",
       "      <td>1003.01</td>\n",
       "      <td>106997505</td>\n",
       "      <td>FP</td>\n",
       "      <td>07h22m14.39s</td>\n",
       "      <td>110.559945</td>\n",
       "      <td>-25d12m25.26s</td>\n",
       "      <td>-25.207017</td>\n",
       "      <td>-0.939</td>\n",
       "      <td>0.041</td>\n",
       "      <td>-0.041</td>\n",
       "      <td>...</td>\n",
       "      <td>4.15</td>\n",
       "      <td>1.64</td>\n",
       "      <td>-1.64</td>\n",
       "      <td>0</td>\n",
       "      <td>NaN</td>\n",
       "      <td>NaN</td>\n",
       "      <td>NaN</td>\n",
       "      <td>0</td>\n",
       "      <td>2019-07-24 15:58:33</td>\n",
       "      <td>2022-02-23 10:10:02</td>\n",
       "    </tr>\n",
       "    <tr>\n",
       "      <th>4</th>\n",
       "      <td>1004.01</td>\n",
       "      <td>238597883</td>\n",
       "      <td>FP</td>\n",
       "      <td>08h08m42.77s</td>\n",
       "      <td>122.178195</td>\n",
       "      <td>-48d48m10.12s</td>\n",
       "      <td>-48.802811</td>\n",
       "      <td>-4.496</td>\n",
       "      <td>0.069</td>\n",
       "      <td>-0.069</td>\n",
       "      <td>...</td>\n",
       "      <td>4.14</td>\n",
       "      <td>0.07</td>\n",
       "      <td>-0.07</td>\n",
       "      <td>0</td>\n",
       "      <td>2.15000</td>\n",
       "      <td>0.060000</td>\n",
       "      <td>-0.060000</td>\n",
       "      <td>0</td>\n",
       "      <td>2019-07-24 15:58:33</td>\n",
       "      <td>2024-09-09 10:08:01</td>\n",
       "    </tr>\n",
       "  </tbody>\n",
       "</table>\n",
       "<p>5 rows × 65 columns</p>\n",
       "</div>"
      ],
      "text/plain": [
       "       toi        tid tfopwg_disp         rastr          ra         decstr  \\\n",
       "0  1000.01   50365310          FP  07h29m25.85s  112.357708  -12d41m45.46s   \n",
       "1  1001.01   88863718          PC  08h10m19.31s  122.580465  -05d30m49.87s   \n",
       "2  1002.01  124709665          FP  06h58m54.47s  104.726966  -10d34m49.64s   \n",
       "3  1003.01  106997505          FP  07h22m14.39s  110.559945  -25d12m25.26s   \n",
       "4  1004.01  238597883          FP  08h08m42.77s  122.178195  -48d48m10.12s   \n",
       "\n",
       "         dec  st_pmra  st_pmraerr1  st_pmraerr2  ...  st_logg  st_loggerr1  \\\n",
       "0 -12.695960   -5.964        0.085       -0.085  ...     4.19         0.07   \n",
       "1  -5.513852   -4.956        0.102       -0.102  ...     4.03         0.09   \n",
       "2 -10.580455   -1.462        0.206       -0.206  ...      NaN          NaN   \n",
       "3 -25.207017   -0.939        0.041       -0.041  ...     4.15         1.64   \n",
       "4 -48.802811   -4.496        0.069       -0.069  ...     4.14         0.07   \n",
       "\n",
       "   st_loggerr2  st_logglim   st_rad  st_raderr1  st_raderr2  st_radlim  \\\n",
       "0        -0.07           0  2.16986    0.072573   -0.072573          0   \n",
       "1        -0.09           0  2.01000    0.090000   -0.090000          0   \n",
       "2          NaN           0  5.73000         NaN         NaN          0   \n",
       "3        -1.64           0      NaN         NaN         NaN          0   \n",
       "4        -0.07           0  2.15000    0.060000   -0.060000          0   \n",
       "\n",
       "           toi_created            rowupdate  \n",
       "0  2019-07-24 15:58:33  2024-09-09 10:08:01  \n",
       "1  2019-07-24 15:58:33  2023-04-03 14:31:04  \n",
       "2  2019-07-24 15:58:33  2022-07-11 16:02:02  \n",
       "3  2019-07-24 15:58:33  2022-02-23 10:10:02  \n",
       "4  2019-07-24 15:58:33  2024-09-09 10:08:01  \n",
       "\n",
       "[5 rows x 65 columns]"
      ]
     },
     "execution_count": 3,
     "metadata": {},
     "output_type": "execute_result"
    }
   ],
   "source": [
    "df.head()"
   ]
  },
  {
   "cell_type": "code",
   "execution_count": 75,
   "id": "7932c3d9-effd-486e-92ea-6fbb8552baea",
   "metadata": {},
   "outputs": [],
   "source": [
    "df = df.drop(columns=['toi', 'tid','rastr','ra','decstr','st_pmra','st_pmdec','pl_tranmid','pl_insol','pl_eqt','st_dist','toi_created','rowupdate','st_pmralim','pl_tranmidlim','pl_trandeplim','pl_trandurh','pl_trandurhlim','st_tefflim','st_distlim','st_tmaglim','st_radlim','st_pmdeclim','pl_orbperlim','pl_radelim','pl_insolerr1','pl_insolerr2','pl_insollim','pl_eqterr1','pl_eqterr2','pl_eqtlim','st_logglim'],errors='ignore')\n"
   ]
  },
  {
   "cell_type": "code",
   "execution_count": 77,
   "id": "048270fe-8455-4c43-96a2-0ba1fe8a2f71",
   "metadata": {},
   "outputs": [
    {
     "name": "stdout",
     "output_type": "stream",
     "text": [
      "disp_3class\n",
      "Candidate    5139\n",
      "False        1294\n",
      "Planet       1266\n",
      "Name: count, dtype: int64\n"
     ]
    }
   ],
   "source": [
    "mapping = {\n",
    "    \"CP\": \"Planet\",\n",
    "    \"KP\": \"Planet\",\n",
    "    \"PC\": \"Candidate\",\n",
    "    \"APC\": \"Candidate\",\n",
    "    \"FP\": \"False\",\n",
    "    \"FA\": \"False\"\n",
    "}\n",
    "\n",
    "df[\"disp_3class\"] = df[\"tfopwg_disp\"].map(mapping)\n",
    "print(df[\"disp_3class\"].value_counts())\n"
   ]
  },
  {
   "cell_type": "code",
   "execution_count": 79,
   "id": "a60ee505-39f2-4e1f-adb7-c43f819f03a1",
   "metadata": {},
   "outputs": [],
   "source": [
    "\n",
    "numeric_df = df.select_dtypes(include=['float64', 'int64'])\n"
   ]
  },
  {
   "cell_type": "markdown",
   "id": "b6784ec9-4ff8-4a98-95ef-03fded6e3590",
   "metadata": {},
   "source": [
    "# log transformations to stabilize distributions "
   ]
  },
  {
   "cell_type": "markdown",
   "id": "7e93a61f-b0f4-49f1-af96-5e657da5162a",
   "metadata": {},
   "source": [
    "*Many features (orbital period) are highly skewed, we could reduce influence of extreme values, make distributions closer to normal.*"
   ]
  },
  {
   "cell_type": "code",
   "execution_count": 88,
   "id": "7e1bcb43-45bd-4eb7-ba75-446da58e8f43",
   "metadata": {},
   "outputs": [],
   "source": [
    "df[\"log_orbper\"] = np.log1p(df[\"pl_orbper\"])\n",
    "df['sqrt_pl_rade']=np.sqrt(df['pl_rade']) #small rocky vs giant planets, can linearize relation with depth.\n",
    "df['log_trandep'] = np.log1p(df['pl_trandep']*1e6)\n",
    "\n"
   ]
  },
  {
   "cell_type": "markdown",
   "id": "2e4fea11-30b2-44f3-bed3-5c48dbe6520f",
   "metadata": {},
   "source": [
    "# Ratios&Normalizations (instead of raw numbers)"
   ]
  },
  {
   "cell_type": "code",
   "execution_count": 93,
   "id": "7303f15a-e660-456c-abb5-1f72c2d5d39c",
   "metadata": {},
   "outputs": [],
   "source": [
    "df[\"rel_radius\"] = df[\"pl_rade\"] / df[\"st_rad\"] #Planet radius / star radius= relative planet size\n",
    "df[\"depth_norm\"] = df[\"pl_trandep\"] / df[\"st_rad\"] #Transit depth / stellar radius=signal relative to star size\n",
    "\n",
    "df['compactness'] = df['pl_orbper'] / df['st_rad'] #Orbital Compactness. Encodes how “close-in” the planet is relative to star size.\n"
   ]
  },
  {
   "cell_type": "markdown",
   "id": "64223163-eaf8-4068-9543-ea0441fef06b",
   "metadata": {},
   "source": [
    "# PrincipalComponentAnalysis"
   ]
  },
  {
   "cell_type": "markdown",
   "id": "175e224a-3983-489a-a660-0f41712765eb",
   "metadata": {},
   "source": [
    "*linear combinations of features that capture maximum variance, mathematical compression*"
   ]
  },
  {
   "cell_type": "code",
   "execution_count": 86,
   "id": "c3a1b6a6-53f7-462e-adc8-2620d37cc4cd",
   "metadata": {},
   "outputs": [],
   "source": [
    "from sklearn.decomposition import PCA\n",
    "pca = PCA(n_components=5)\n",
    "X_pca = pca.fit_transform(X_scaled)\n",
    "for i in range(5):\n",
    "    df[f\"pca_{i+1}\"] = X_pca[:, i]\n"
   ]
  },
  {
   "cell_type": "markdown",
   "id": "ccb8fcc0-7173-4fa4-ab3a-e215bffe41c4",
   "metadata": {},
   "source": [
    "Noise reduction: Instead of keeping 50 noisy features, you keep top 5 PCs explaining ~70% variance.\n",
    "\n",
    "Pattern detection: Sometimes clusters separate more cleanly in PC-space than raw space.\n",
    "\n",
    "Feature compression: PCs can be added as new engineered features alongside physical ones."
   ]
  },
  {
   "cell_type": "code",
   "execution_count": null,
   "id": "8f447b7c-7e82-44b9-a09c-cd10470c7496",
   "metadata": {},
   "outputs": [],
   "source": []
  }
 ],
 "metadata": {
  "kernelspec": {
   "display_name": "Python 3 (ipykernel)",
   "language": "python",
   "name": "python3"
  },
  "language_info": {
   "codemirror_mode": {
    "name": "ipython",
    "version": 3
   },
   "file_extension": ".py",
   "mimetype": "text/x-python",
   "name": "python",
   "nbconvert_exporter": "python",
   "pygments_lexer": "ipython3",
   "version": "3.13.0"
  }
 },
 "nbformat": 4,
 "nbformat_minor": 5
}
