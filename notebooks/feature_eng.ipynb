{
 "cells": [
  {
   "cell_type": "code",
   "execution_count": 1,
   "id": "c29985a8-ad1e-4f57-ab7c-8b068f048313",
   "metadata": {},
   "outputs": [
    {
     "name": "stdout",
     "output_type": "stream",
     "text": [
      "Current working directory: /home/nastyaj/git_blyat\n"
     ]
    }
   ],
   "source": [
    "import os\n",
    "import json\n",
    "import pandas as pd\n",
    "import numpy as np\n",
    "import seaborn as sns\n",
    "import matplotlib.pyplot as plt\n",
    "from pathlib import Path\n",
    "from sklearn.preprocessing import StandardScaler\n",
    "from sklearn.decomposition import PCA\n",
    "\n",
    "%matplotlib inline\n",
    "\n",
    "print(\"Current working directory:\", os.getcwd())"
   ]
  },
  {
   "cell_type": "markdown",
   "id": "1ec7dadd",
   "metadata": {},
   "source": [
    "# Leakage fields\n"
   ]
  },
  {
   "cell_type": "code",
   "execution_count": 2,
   "id": "ed13313f",
   "metadata": {},
   "outputs": [],
   "source": [
    "LEAKAGE_FIELDS = [\n",
    "    'toi', 'tid','rastr','ra','decstr','st_pmra','st_pmdec','pl_tranmid','pl_insol','pl_eqt',\n",
    "    'st_dist','toi_created','rowupdate','st_pmralim','pl_tranmidlim','pl_trandeplim','pl_trandurh',\n",
    "    'pl_trandurhlim','st_tefflim','st_distlim','st_tmaglim','st_radlim','st_pmdeclim',\n",
    "    'pl_orbperlim','pl_radelim','pl_insolerr1','pl_insolerr2','pl_insollim','pl_eqterr1',\n",
    "    'pl_eqterr2','pl_eqtlim','st_logglim'\n",
    "]"
   ]
  },
  {
   "cell_type": "markdown",
   "id": "e9c756bf",
   "metadata": {},
   "source": [
    "# Feature columns"
   ]
  },
  {
   "cell_type": "code",
   "execution_count": 3,
   "id": "3834529e",
   "metadata": {},
   "outputs": [],
   "source": [
    "FEATURE_COLS = [\n",
    "    \"log_orbper\",\"sqrt_pl_rade\",\"log_trandep\",\"rel_radius\",\n",
    "    \"depth_norm\",\"compactness\",\"pca_1\",\"pca_2\",\"pca_3\",\"pca_4\",\"pca_5\"\n",
    "]"
   ]
  },
  {
   "cell_type": "markdown",
   "id": "1443b0a5",
   "metadata": {},
   "source": [
    "# Load data function\n"
   ]
  },
  {
   "cell_type": "code",
   "execution_count": 2,
   "id": "63842657",
   "metadata": {},
   "outputs": [
    {
     "ename": "NameError",
     "evalue": "name 'pd' is not defined",
     "output_type": "error",
     "traceback": [
      "\u001b[1;31m---------------------------------------------------------------------------\u001b[0m",
      "\u001b[1;31mNameError\u001b[0m                                 Traceback (most recent call last)",
      "Cell \u001b[1;32mIn[2], line 1\u001b[0m\n\u001b[1;32m----> 1\u001b[0m \u001b[38;5;28;01mdef\u001b[39;00m\u001b[38;5;250m \u001b[39m\u001b[38;5;21mload_data\u001b[39m(filename: \u001b[38;5;28mstr\u001b[39m) \u001b[38;5;241m-\u001b[39m\u001b[38;5;241m>\u001b[39m \u001b[43mpd\u001b[49m\u001b[38;5;241m.\u001b[39mDataFrame:\n\u001b[0;32m      2\u001b[0m \u001b[38;5;250m    \u001b[39m\u001b[38;5;124;03m\"\"\"\u001b[39;00m\n\u001b[0;32m      3\u001b[0m \u001b[38;5;124;03m    Uploads a CSV file from several possible paths:\u001b[39;00m\n\u001b[0;32m      4\u001b[0m \u001b[38;5;124;03m    - absolute path\u001b[39;00m\n\u001b[1;32m   (...)\u001b[0m\n\u001b[0;32m      7\u001b[0m \u001b[38;5;124;03m    - user's home directory\u001b[39;00m\n\u001b[0;32m      8\u001b[0m \u001b[38;5;124;03m    \"\"\"\u001b[39;00m\n\u001b[0;32m      9\u001b[0m     candidates \u001b[38;5;241m=\u001b[39m [\n\u001b[0;32m     10\u001b[0m         Path(filename),\n\u001b[0;32m     11\u001b[0m         Path(\u001b[38;5;124m\"\u001b[39m\u001b[38;5;124mdata\u001b[39m\u001b[38;5;124m\"\u001b[39m) \u001b[38;5;241m/\u001b[39m filename,\n\u001b[1;32m   (...)\u001b[0m\n\u001b[0;32m     14\u001b[0m         Path\u001b[38;5;241m.\u001b[39mhome() \u001b[38;5;241m/\u001b[39m \u001b[38;5;124m\"\u001b[39m\u001b[38;5;124mdata\u001b[39m\u001b[38;5;124m\"\u001b[39m \u001b[38;5;241m/\u001b[39m filename\n\u001b[0;32m     15\u001b[0m     ]\n",
      "\u001b[1;31mNameError\u001b[0m: name 'pd' is not defined"
     ]
    }
   ],
   "source": [
    "def load_data(filename: str) -> pd.DataFrame:\n",
    "    \"\"\"\n",
    "    Uploads a CSV file from several possible paths:\n",
    "    - absolute path\n",
    "    - current directory\n",
    "    - ‘data’ folder on the laptop\n",
    "    - user's home directory\n",
    "    \"\"\"\n",
    "    candidates = [\n",
    "        Path(filename),\n",
    "        Path(\"data\") / filename,\n",
    "        Path.cwd() / filename,\n",
    "        Path.cwd() / \"data\" / filename,\n",
    "        Path.home() / \"data\" / filename\n",
    "    ]\n",
    "    \n",
    "    for path in candidates:\n",
    "        if path.exists():\n",
    "            print(f\"✅ Loading: {path}\")\n",
    "            return pd.read_csv(path, comment=\"#\")\n",
    "    \n",
    "    raise FileNotFoundError(\n",
    "        f\"❌ File '{filename}' not found in any of:\\n\" + \"\\n\".join(str(p) for p in candidates)\n",
    "    )\n"
   ]
  },
  {
   "cell_type": "markdown",
   "id": "8d541143",
   "metadata": {},
   "source": [
    "# Build features from raw data\n"
   ]
  },
  {
   "cell_type": "code",
   "execution_count": 1,
   "id": "048270fe-8455-4c43-96a2-0ba1fe8a2f71",
   "metadata": {},
   "outputs": [
    {
     "ename": "NameError",
     "evalue": "name 'pd' is not defined",
     "output_type": "error",
     "traceback": [
      "\u001b[1;31m---------------------------------------------------------------------------\u001b[0m",
      "\u001b[1;31mNameError\u001b[0m                                 Traceback (most recent call last)",
      "Cell \u001b[1;32mIn[1], line 1\u001b[0m\n\u001b[1;32m----> 1\u001b[0m \u001b[38;5;28;01mdef\u001b[39;00m\u001b[38;5;250m \u001b[39m\u001b[38;5;21mbuild_features_from_raw\u001b[39m(df_raw: \u001b[43mpd\u001b[49m\u001b[38;5;241m.\u001b[39mDataFrame) \u001b[38;5;241m-\u001b[39m\u001b[38;5;241m>\u001b[39m pd\u001b[38;5;241m.\u001b[39mDataFrame:\n\u001b[0;32m      2\u001b[0m \u001b[38;5;250m    \u001b[39m\u001b[38;5;124;03m\"\"\"\u001b[39;00m\n\u001b[0;32m      3\u001b[0m \u001b[38;5;124;03m    Builds 13 engineering features for TOI and KOI datasets.\u001b[39;00m\n\u001b[0;32m      4\u001b[0m \u001b[38;5;124;03m    Automatically unifies column names and removes leakage.\u001b[39;00m\n\u001b[0;32m      5\u001b[0m \u001b[38;5;124;03m    \"\"\"\u001b[39;00m\n\u001b[0;32m      7\u001b[0m     COLUMN_ALIASES \u001b[38;5;241m=\u001b[39m {\n\u001b[0;32m      8\u001b[0m         \u001b[38;5;66;03m# KOI -> стандартні\u001b[39;00m\n\u001b[0;32m      9\u001b[0m         \u001b[38;5;124m\"\u001b[39m\u001b[38;5;124mkoi_period\u001b[39m\u001b[38;5;124m\"\u001b[39m: \u001b[38;5;124m\"\u001b[39m\u001b[38;5;124mpl_orbper\u001b[39m\u001b[38;5;124m\"\u001b[39m,\n\u001b[1;32m   (...)\u001b[0m\n\u001b[0;32m     13\u001b[0m         \u001b[38;5;124m\"\u001b[39m\u001b[38;5;124mkoi_disposition\u001b[39m\u001b[38;5;124m\"\u001b[39m: \u001b[38;5;124m\"\u001b[39m\u001b[38;5;124mtfopwg_disp\u001b[39m\u001b[38;5;124m\"\u001b[39m,\n\u001b[0;32m     14\u001b[0m     }\n",
      "\u001b[1;31mNameError\u001b[0m: name 'pd' is not defined"
     ]
    }
   ],
   "source": [
    "def build_features_from_raw(df_raw: pd.DataFrame) -> pd.DataFrame:\n",
    "    \"\"\"\n",
    "    Builds 13 engineering features for TOI and KOI datasets.\n",
    "    Automatically unifies column names and removes leakage.\n",
    "    \"\"\"\n",
    "\n",
    "    COLUMN_ALIASES = {\n",
    "        # KOI -> стандартні\n",
    "        \"koi_period\": \"pl_orbper\",\n",
    "        \"koi_prad\": \"pl_rade\",\n",
    "        \"koi_depth\": \"pl_trandep\",\n",
    "        \"koi_srad\": \"st_rad\",\n",
    "        \"koi_disposition\": \"tfopwg_disp\",\n",
    "    }\n",
    "    df_raw = df_raw.rename(columns={k: v for k, v in COLUMN_ALIASES.items() if k in df_raw.columns})\n",
    "\n",
    "    df = df_raw.drop(columns=LEAKAGE_FIELDS, errors=\"ignore\").copy()\n",
    "\n",
    "    mapping = {\n",
    "        \"CP\": \"Planet\", \"KP\": \"Planet\",\n",
    "        \"PC\": \"Candidate\", \"APC\": \"Candidate\",\n",
    "        \"FP\": \"False\", \"FA\": \"False\",\n",
    "        \"CONFIRMED\": \"Planet\", \"CANDIDATE\": \"Candidate\", \"FALSE POSITIVE\": \"False\"\n",
    "    }\n",
    "    if \"tfopwg_disp\" in df.columns:\n",
    "        df[\"disp_3class\"] = df[\"tfopwg_disp\"].map(lambda x: mapping.get(str(x).upper(), \"Unknown\"))\n",
    "\n",
    "\n",
    "    if \"pl_orbper\" in df.columns:\n",
    "        df[\"log_orbper\"] = np.log1p(df[\"pl_orbper\"])\n",
    "    if \"pl_rade\" in df.columns:\n",
    "        df[\"sqrt_pl_rade\"] = np.sqrt(df[\"pl_rade\"])\n",
    "    if \"pl_trandep\" in df.columns:\n",
    "        df[\"log_trandep\"] = np.log1p(df[\"pl_trandep\"] * 1e6)\n",
    "    if {\"pl_rade\", \"st_rad\"} <= set(df.columns):\n",
    "        df[\"rel_radius\"] = df[\"pl_rade\"] / df[\"st_rad\"]\n",
    "    if {\"pl_trandep\", \"st_rad\"} <= set(df.columns):\n",
    "        df[\"depth_norm\"] = df[\"pl_trandep\"] / df[\"st_rad\"]\n",
    "    if {\"pl_orbper\", \"st_rad\"} <= set(df.columns):\n",
    "        df[\"compactness\"] = df[\"pl_orbper\"] / df[\"st_rad\"]\n",
    "\n",
    "    numeric_df = df.select_dtypes(include=[\"float64\", \"int64\"])\n",
    "    if not numeric_df.empty:\n",
    "        scaler = StandardScaler()\n",
    "        X_scaled = scaler.fit_transform(numeric_df.fillna(0))\n",
    "        pca = PCA(n_components=min(5, X_scaled.shape[1]))\n",
    "        X_pca = pca.fit_transform(X_scaled)\n",
    "        for i in range(X_pca.shape[1]):\n",
    "            df[f\"pca_{i+1}\"] = X_pca[:, i]\n",
    "\n",
    "    return df\n"
   ]
  },
  {
   "cell_type": "markdown",
   "id": "005ffcae",
   "metadata": {},
   "source": [
    "# Load raw datasets\n"
   ]
  },
  {
   "cell_type": "code",
   "execution_count": 6,
   "id": "d310a6ae-0e94-4f23-8cf6-f54f7a042caa",
   "metadata": {},
   "outputs": [
    {
     "name": "stdout",
     "output_type": "stream",
     "text": [
      "✅ Loading: data/raw/TOI_raw_2025.10.01.csv\n",
      "✅ Loading: data/raw/KOI_raw_2025.10.01.csv\n"
     ]
    }
   ],
   "source": [
    "df_toi_raw = load_data(\"raw/TOI_raw_2025.10.01.csv\")\n",
    "df_koi_raw = load_data(\"raw/KOI_raw_2025.10.01.csv\")\n",
    "\n",
    "df_toi = build_features_from_raw(df_toi_raw)\n",
    "df_koi = build_features_from_raw(df_koi_raw)"
   ]
  },
  {
   "cell_type": "markdown",
   "id": "563d7ed7",
   "metadata": {},
   "source": [
    "# Stability check\n"
   ]
  },
  {
   "cell_type": "code",
   "execution_count": 7,
   "id": "7932c3d9-effd-486e-92ea-6fbb8552baea",
   "metadata": {},
   "outputs": [],
   "source": [
    "def stability_check(df: pd.DataFrame, feature_cols: list):\n",
    "    desc = df[feature_cols].describe().T\n",
    "    desc[\"IQR_low\"] = df[feature_cols].quantile(0.25)\n",
    "    desc[\"IQR_high\"] = df[feature_cols].quantile(0.75)\n",
    "    return desc"
   ]
  },
  {
   "cell_type": "markdown",
   "id": "5d0fdc7d",
   "metadata": {},
   "source": [
    "# TOI stability report\n"
   ]
  },
  {
   "cell_type": "code",
   "execution_count": 8,
   "id": "471f742c",
   "metadata": {},
   "outputs": [
    {
     "name": "stdout",
     "output_type": "stream",
     "text": [
      "✅ Loading: data/raw/TOI_raw_2025.10.01.csv\n",
      "\n",
      "✅ TOI stability report:\n",
      "               count          mean           std        min          25%  \\\n",
      "log_orbper    7592.0  1.803518e+00      0.947233   0.141566     1.250438   \n",
      "sqrt_pl_rade  7193.0  3.029431e+00      1.072767   0.743308     2.120281   \n",
      "log_trandep   7699.0  2.207299e+01      1.322249  17.017586    21.072630   \n",
      "rel_radius    7192.0  8.173140e+00      5.507944   0.503540     3.959835   \n",
      "depth_norm    7192.0  9.719609e+03  33491.621104   7.742821  1132.130213   \n",
      "compactness   7085.0  2.037250e+01    148.360182   0.012545     1.837035   \n",
      "pca_1         7699.0  7.383221e-17      2.165230 -18.158859    -1.021984   \n",
      "pca_2         7699.0  1.550476e-16      2.021264 -10.862412    -1.324300   \n",
      "pca_3         7699.0  7.383221e-17      1.740942 -12.488132    -0.840514   \n",
      "pca_4         7699.0  5.906577e-17      1.711439  -8.035163    -0.606886   \n",
      "pca_5         7699.0  9.229026e-18      1.574622 -12.953801    -0.358502   \n",
      "\n",
      "                      50%          75%           max      IQR_low     IQR_high  \n",
      "log_orbper       1.627294     2.188785  7.516917e+00     1.250438     2.188785  \n",
      "sqrt_pl_rade     3.247584     3.744396  1.723693e+01     2.120281     3.744396  \n",
      "log_trandep     22.282101    23.060332  2.736694e+01    21.072630    23.060332  \n",
      "rel_radius       7.343100    10.904984  6.054426e+01     3.959835    10.904984  \n",
      "depth_norm    3321.297834  8605.065057  1.121786e+06  1132.130213  8605.065057  \n",
      "compactness      3.329453     7.603884  6.357441e+03     1.837035     7.603884  \n",
      "pca_1           -0.549730     0.295332  2.314403e+01    -1.021984     0.295332  \n",
      "pca_2           -0.071654     0.932572  3.287500e+01    -1.324300     0.932572  \n",
      "pca_3           -0.245528     0.417984  2.517069e+01    -0.840514     0.417984  \n",
      "pca_4           -0.316912     0.118810  2.706057e+01    -0.606886     0.118810  \n",
      "pca_5           -0.038873     0.389475  2.839608e+01    -0.358502     0.389475  \n"
     ]
    }
   ],
   "source": [
    "df_toi_raw = load_data(\"raw/TOI_raw_2025.10.01.csv\")\n",
    "df_toi_feat = build_features_from_raw(df_toi_raw)\n",
    "stability_toi = stability_check(df_toi_feat, FEATURE_COLS)\n",
    "print(\"\\n✅ TOI stability report:\")\n",
    "print(stability_toi)"
   ]
  },
  {
   "cell_type": "markdown",
   "id": "3b023b6b",
   "metadata": {},
   "source": [
    "# KOI stability report\n"
   ]
  },
  {
   "cell_type": "code",
   "execution_count": 9,
   "id": "54a0d5a0",
   "metadata": {},
   "outputs": [
    {
     "name": "stdout",
     "output_type": "stream",
     "text": [
      "✅ Loading: data/raw/KOI_raw_2025.10.01.csv\n",
      "\n",
      "✅ KOI stability report:\n",
      "               count          mean           std        min         25%  \\\n",
      "log_orbper    9564.0  2.680465e+00      1.664590   0.216596    1.317395   \n",
      "sqrt_pl_rade  9201.0  3.389555e+00      9.560995   0.282843    1.183216   \n",
      "log_trandep   9201.0  2.045687e+01      2.372316   0.000000   18.890059   \n",
      "rel_radius    9201.0  3.097423e+01    361.076381   0.145719    1.348862   \n",
      "depth_norm    9201.0  2.246971e+04  82781.214053   0.000000  129.940765   \n",
      "compactness   9201.0  7.628393e+01   1870.838009   0.004106    2.416181   \n",
      "pca_1         9564.0  1.188696e-17      2.383752  -2.302332   -0.709810   \n",
      "pca_2         9564.0 -1.188696e-17      2.264175 -28.923500   -0.275881   \n",
      "pca_3         9564.0  0.000000e+00      2.143389 -36.805707   -0.958970   \n",
      "pca_4         9564.0 -1.783043e-17      2.060015 -20.693096   -0.748776   \n",
      "pca_5         9564.0  2.377391e-17      1.688504  -6.445059   -0.939601   \n",
      "\n",
      "                     50%          75%           max     IQR_low     IQR_high  \n",
      "log_orbper      2.375169     3.730865  1.177526e+01    1.317395     3.730865  \n",
      "sqrt_pl_rade    1.545962     3.863936  4.476003e+02    1.183216     3.863936  \n",
      "log_trandep    19.858381    21.110838  2.806371e+01   18.890059    21.110838  \n",
      "rel_radius      2.300962    10.411348  1.090588e+04    1.348862    10.411348  \n",
      "depth_norm    401.285190  1672.241993  1.891288e+06  129.940765  1672.241993  \n",
      "compactness     8.715510    34.284106  1.790575e+05    2.416181    34.284106  \n",
      "pca_1          -0.263546     0.347255  1.063921e+02   -0.709810     0.347255  \n",
      "pca_2           0.432194     0.963287  3.455319e+01   -0.275881     0.963287  \n",
      "pca_3          -0.060899     0.835762  7.308260e+01   -0.958970     0.835762  \n",
      "pca_4          -0.108703     0.695059  5.911716e+01   -0.748776     0.695059  \n",
      "pca_5          -0.404648     0.390598  6.857451e+01   -0.939601     0.390598  \n"
     ]
    }
   ],
   "source": [
    "df_koi_raw = load_data(\"raw/KOI_raw_2025.10.01.csv\")\n",
    "df_koi_feat = build_features_from_raw(df_koi_raw)\n",
    "stability_koi = stability_check(df_koi_feat, FEATURE_COLS)\n",
    "print(\"\\n✅ KOI stability report:\")\n",
    "print(stability_koi)"
   ]
  },
  {
   "cell_type": "markdown",
   "id": "4e1f372a",
   "metadata": {},
   "source": [
    "# Export features.json to reports/features\n"
   ]
  },
  {
   "cell_type": "code",
   "execution_count": 10,
   "id": "f7448add",
   "metadata": {},
   "outputs": [],
   "source": [
    "output_dir = Path(\"reports\") / \"features\"\n",
    "output_dir.mkdir(parents=True, exist_ok=True)  # створює папки, якщо їх немає\n",
    "\n",
    "output_file = output_dir / \"features.json\"\n",
    "\n",
    "with open(output_file, \"w\") as f:\n",
    "    json.dump(FEATURE_COLS, f, indent=2)"
   ]
  },
  {
   "cell_type": "markdown",
   "id": "11ea39e3",
   "metadata": {},
   "source": [
    "# 🧩 Feature Contract\n",
    "\n",
    "**Purpose:**  \n",
    "This file defines a set of agreed features that are used for both TOI and KOI snapshots.\n",
    "\n",
    "**Included engineered features (13 total):**  \n",
    "- log_orbper  \n",
    "- sqrt_pl_rade  \n",
    "- log_trandep  \n",
    "- rel_radius  \n",
    "- depth_norm  \n",
    "- compactness  \n",
    "- pca_1 … pca_5  \n",
    "\n",
    "**Notes:**  \n",
    "- Leakage fields are always removed before building.\n",
    "- The `build_features_from_raw(df_raw)` function is applied equally to both datasets.\n",
    "- Stability check (`stability_check`) confirms consistent feature ranges.\n"
   ]
  },
  {
   "cell_type": "code",
   "execution_count": null,
   "id": "56dc016b-b0cc-4d01-8d4e-074b01492912",
   "metadata": {},
   "outputs": [],
   "source": []
  }
 ],
 "metadata": {
  "kernelspec": {
   "display_name": "Python 3 (ipykernel)",
   "language": "python",
   "name": "python3"
  },
  "language_info": {
   "codemirror_mode": {
    "name": "ipython",
    "version": 3
   },
   "file_extension": ".py",
   "mimetype": "text/x-python",
   "name": "python",
   "nbconvert_exporter": "python",
   "pygments_lexer": "ipython3",
   "version": "3.13.0"
  }
 },
 "nbformat": 4,
 "nbformat_minor": 5
}
