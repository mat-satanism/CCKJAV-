{
 "cells": [
  {
   "cell_type": "code",
   "execution_count": 2,
   "id": "c29985a8-ad1e-4f57-ab7c-8b068f048313",
   "metadata": {},
   "outputs": [],
   "source": [
    "import pandas as pd\n",
    "import numpy as np\n",
    "import seaborn as sns\n",
    "import matplotlib.pyplot as plt\n",
    "%matplotlib inline"
   ]
  },
  {
   "cell_type": "code",
   "execution_count": 3,
   "id": "d310a6ae-0e94-4f23-8cf6-f54f7a042caa",
   "metadata": {},
   "outputs": [],
   "source": [
    "df=pd.read_csv(r'TESS.csv', comment='#' )"
   ]
  },
  {
   "cell_type": "code",
   "execution_count": 4,
   "id": "891e8669-efa1-48ea-bdcf-165fd070788a",
   "metadata": {},
   "outputs": [
    {
     "data": {
      "text/html": [
       "<div>\n",
       "<style scoped>\n",
       "    .dataframe tbody tr th:only-of-type {\n",
       "        vertical-align: middle;\n",
       "    }\n",
       "\n",
       "    .dataframe tbody tr th {\n",
       "        vertical-align: top;\n",
       "    }\n",
       "\n",
       "    .dataframe thead th {\n",
       "        text-align: right;\n",
       "    }\n",
       "</style>\n",
       "<table border=\"1\" class=\"dataframe\">\n",
       "  <thead>\n",
       "    <tr style=\"text-align: right;\">\n",
       "      <th></th>\n",
       "      <th>toi</th>\n",
       "      <th>tid</th>\n",
       "      <th>tfopwg_disp</th>\n",
       "      <th>rastr</th>\n",
       "      <th>ra</th>\n",
       "      <th>decstr</th>\n",
       "      <th>dec</th>\n",
       "      <th>st_pmra</th>\n",
       "      <th>st_pmraerr1</th>\n",
       "      <th>st_pmraerr2</th>\n",
       "      <th>...</th>\n",
       "      <th>st_logg</th>\n",
       "      <th>st_loggerr1</th>\n",
       "      <th>st_loggerr2</th>\n",
       "      <th>st_logglim</th>\n",
       "      <th>st_rad</th>\n",
       "      <th>st_raderr1</th>\n",
       "      <th>st_raderr2</th>\n",
       "      <th>st_radlim</th>\n",
       "      <th>toi_created</th>\n",
       "      <th>rowupdate</th>\n",
       "    </tr>\n",
       "  </thead>\n",
       "  <tbody>\n",
       "    <tr>\n",
       "      <th>0</th>\n",
       "      <td>1000.01</td>\n",
       "      <td>50365310</td>\n",
       "      <td>FP</td>\n",
       "      <td>07h29m25.85s</td>\n",
       "      <td>112.357708</td>\n",
       "      <td>-12d41m45.46s</td>\n",
       "      <td>-12.695960</td>\n",
       "      <td>-5.964</td>\n",
       "      <td>0.085</td>\n",
       "      <td>-0.085</td>\n",
       "      <td>...</td>\n",
       "      <td>4.19</td>\n",
       "      <td>0.07</td>\n",
       "      <td>-0.07</td>\n",
       "      <td>0</td>\n",
       "      <td>2.16986</td>\n",
       "      <td>0.072573</td>\n",
       "      <td>-0.072573</td>\n",
       "      <td>0</td>\n",
       "      <td>2019-07-24 15:58:33</td>\n",
       "      <td>2024-09-09 10:08:01</td>\n",
       "    </tr>\n",
       "    <tr>\n",
       "      <th>1</th>\n",
       "      <td>1001.01</td>\n",
       "      <td>88863718</td>\n",
       "      <td>PC</td>\n",
       "      <td>08h10m19.31s</td>\n",
       "      <td>122.580465</td>\n",
       "      <td>-05d30m49.87s</td>\n",
       "      <td>-5.513852</td>\n",
       "      <td>-4.956</td>\n",
       "      <td>0.102</td>\n",
       "      <td>-0.102</td>\n",
       "      <td>...</td>\n",
       "      <td>4.03</td>\n",
       "      <td>0.09</td>\n",
       "      <td>-0.09</td>\n",
       "      <td>0</td>\n",
       "      <td>2.01000</td>\n",
       "      <td>0.090000</td>\n",
       "      <td>-0.090000</td>\n",
       "      <td>0</td>\n",
       "      <td>2019-07-24 15:58:33</td>\n",
       "      <td>2023-04-03 14:31:04</td>\n",
       "    </tr>\n",
       "    <tr>\n",
       "      <th>2</th>\n",
       "      <td>1002.01</td>\n",
       "      <td>124709665</td>\n",
       "      <td>FP</td>\n",
       "      <td>06h58m54.47s</td>\n",
       "      <td>104.726966</td>\n",
       "      <td>-10d34m49.64s</td>\n",
       "      <td>-10.580455</td>\n",
       "      <td>-1.462</td>\n",
       "      <td>0.206</td>\n",
       "      <td>-0.206</td>\n",
       "      <td>...</td>\n",
       "      <td>NaN</td>\n",
       "      <td>NaN</td>\n",
       "      <td>NaN</td>\n",
       "      <td>0</td>\n",
       "      <td>5.73000</td>\n",
       "      <td>NaN</td>\n",
       "      <td>NaN</td>\n",
       "      <td>0</td>\n",
       "      <td>2019-07-24 15:58:33</td>\n",
       "      <td>2022-07-11 16:02:02</td>\n",
       "    </tr>\n",
       "    <tr>\n",
       "      <th>3</th>\n",
       "      <td>1003.01</td>\n",
       "      <td>106997505</td>\n",
       "      <td>FP</td>\n",
       "      <td>07h22m14.39s</td>\n",
       "      <td>110.559945</td>\n",
       "      <td>-25d12m25.26s</td>\n",
       "      <td>-25.207017</td>\n",
       "      <td>-0.939</td>\n",
       "      <td>0.041</td>\n",
       "      <td>-0.041</td>\n",
       "      <td>...</td>\n",
       "      <td>4.15</td>\n",
       "      <td>1.64</td>\n",
       "      <td>-1.64</td>\n",
       "      <td>0</td>\n",
       "      <td>NaN</td>\n",
       "      <td>NaN</td>\n",
       "      <td>NaN</td>\n",
       "      <td>0</td>\n",
       "      <td>2019-07-24 15:58:33</td>\n",
       "      <td>2022-02-23 10:10:02</td>\n",
       "    </tr>\n",
       "    <tr>\n",
       "      <th>4</th>\n",
       "      <td>1004.01</td>\n",
       "      <td>238597883</td>\n",
       "      <td>FP</td>\n",
       "      <td>08h08m42.77s</td>\n",
       "      <td>122.178195</td>\n",
       "      <td>-48d48m10.12s</td>\n",
       "      <td>-48.802811</td>\n",
       "      <td>-4.496</td>\n",
       "      <td>0.069</td>\n",
       "      <td>-0.069</td>\n",
       "      <td>...</td>\n",
       "      <td>4.14</td>\n",
       "      <td>0.07</td>\n",
       "      <td>-0.07</td>\n",
       "      <td>0</td>\n",
       "      <td>2.15000</td>\n",
       "      <td>0.060000</td>\n",
       "      <td>-0.060000</td>\n",
       "      <td>0</td>\n",
       "      <td>2019-07-24 15:58:33</td>\n",
       "      <td>2024-09-09 10:08:01</td>\n",
       "    </tr>\n",
       "  </tbody>\n",
       "</table>\n",
       "<p>5 rows × 65 columns</p>\n",
       "</div>"
      ],
      "text/plain": [
       "       toi        tid tfopwg_disp         rastr          ra         decstr  \\\n",
       "0  1000.01   50365310          FP  07h29m25.85s  112.357708  -12d41m45.46s   \n",
       "1  1001.01   88863718          PC  08h10m19.31s  122.580465  -05d30m49.87s   \n",
       "2  1002.01  124709665          FP  06h58m54.47s  104.726966  -10d34m49.64s   \n",
       "3  1003.01  106997505          FP  07h22m14.39s  110.559945  -25d12m25.26s   \n",
       "4  1004.01  238597883          FP  08h08m42.77s  122.178195  -48d48m10.12s   \n",
       "\n",
       "         dec  st_pmra  st_pmraerr1  st_pmraerr2  ...  st_logg  st_loggerr1  \\\n",
       "0 -12.695960   -5.964        0.085       -0.085  ...     4.19         0.07   \n",
       "1  -5.513852   -4.956        0.102       -0.102  ...     4.03         0.09   \n",
       "2 -10.580455   -1.462        0.206       -0.206  ...      NaN          NaN   \n",
       "3 -25.207017   -0.939        0.041       -0.041  ...     4.15         1.64   \n",
       "4 -48.802811   -4.496        0.069       -0.069  ...     4.14         0.07   \n",
       "\n",
       "   st_loggerr2  st_logglim   st_rad  st_raderr1  st_raderr2  st_radlim  \\\n",
       "0        -0.07           0  2.16986    0.072573   -0.072573          0   \n",
       "1        -0.09           0  2.01000    0.090000   -0.090000          0   \n",
       "2          NaN           0  5.73000         NaN         NaN          0   \n",
       "3        -1.64           0      NaN         NaN         NaN          0   \n",
       "4        -0.07           0  2.15000    0.060000   -0.060000          0   \n",
       "\n",
       "           toi_created            rowupdate  \n",
       "0  2019-07-24 15:58:33  2024-09-09 10:08:01  \n",
       "1  2019-07-24 15:58:33  2023-04-03 14:31:04  \n",
       "2  2019-07-24 15:58:33  2022-07-11 16:02:02  \n",
       "3  2019-07-24 15:58:33  2022-02-23 10:10:02  \n",
       "4  2019-07-24 15:58:33  2024-09-09 10:08:01  \n",
       "\n",
       "[5 rows x 65 columns]"
      ]
     },
     "execution_count": 4,
     "metadata": {},
     "output_type": "execute_result"
    }
   ],
   "source": [
    "df.head()"
   ]
  },
  {
   "cell_type": "code",
   "execution_count": 5,
   "id": "7932c3d9-effd-486e-92ea-6fbb8552baea",
   "metadata": {},
   "outputs": [],
   "source": [
    "df = df.drop(columns=['toi', 'tid','rastr','ra','decstr','st_pmra','st_pmdec','pl_tranmid','pl_insol','pl_eqt','st_dist','toi_created','rowupdate','st_pmralim','pl_tranmidlim','pl_trandeplim','pl_trandurh','pl_trandurhlim','st_tefflim','st_distlim','st_tmaglim','st_radlim','st_pmdeclim','pl_orbperlim','pl_radelim','pl_insolerr1','pl_insolerr2','pl_insollim','pl_eqterr1','pl_eqterr2','pl_eqtlim','st_logglim'],errors='ignore')\n"
   ]
  },
  {
   "cell_type": "code",
   "execution_count": 6,
   "id": "048270fe-8455-4c43-96a2-0ba1fe8a2f71",
   "metadata": {},
   "outputs": [
    {
     "name": "stdout",
     "output_type": "stream",
     "text": [
      "disp_3class\n",
      "Candidate    5139\n",
      "False        1294\n",
      "Planet       1266\n",
      "Name: count, dtype: int64\n"
     ]
    }
   ],
   "source": [
    "mapping = {\n",
    "    \"CP\": \"Planet\",\n",
    "    \"KP\": \"Planet\",\n",
    "    \"PC\": \"Candidate\",\n",
    "    \"APC\": \"Candidate\",\n",
    "    \"FP\": \"False\",\n",
    "    \"FA\": \"False\"\n",
    "}\n",
    "\n",
    "df[\"disp_3class\"] = df[\"tfopwg_disp\"].map(mapping)\n",
    "print(df[\"disp_3class\"].value_counts())\n"
   ]
  },
  {
   "cell_type": "code",
   "execution_count": 7,
   "id": "a60ee505-39f2-4e1f-adb7-c43f819f03a1",
   "metadata": {},
   "outputs": [],
   "source": [
    "\n",
    "numeric_df = df.select_dtypes(include=['float64', 'int64'])\n"
   ]
  },
  {
   "cell_type": "code",
   "execution_count": 8,
   "id": "b162e70f-fb26-45fa-9883-518407e840f0",
   "metadata": {},
   "outputs": [],
   "source": [
    "from sklearn.preprocessing import StandardScaler\n"
   ]
  },
  {
   "cell_type": "code",
   "execution_count": 9,
   "id": "eff1cbec-912e-4972-a7be-186112865ca8",
   "metadata": {},
   "outputs": [],
   "source": [
    "X = numeric_df\n",
    "X = X.dropna(axis=1, thresh=len(X)*0.7)  \n",
    "from sklearn.impute import SimpleImputer\n",
    "\n",
    "imputer = SimpleImputer(strategy=\"median\")\n",
    "X_imputed = imputer.fit_transform(X)\n",
    "scaler = StandardScaler()\n",
    "X_scaled = scaler.fit_transform(X_imputed)  "
   ]
  },
  {
   "cell_type": "code",
   "execution_count": 12,
   "id": "ad4925de-d647-45e8-a681-32d5ae14a3b4",
   "metadata": {},
   "outputs": [
    {
     "name": "stdout",
     "output_type": "stream",
     "text": [
      "['Candidate' 'False' 'Planet']\n"
     ]
    }
   ],
   "source": [
    "from sklearn.preprocessing import LabelEncoder\n",
    "y = df[\"disp_3class\"]   \n",
    "\n",
    "le = LabelEncoder()\n",
    "y_encoded = le.fit_transform(y)\n",
    "\n",
    "print(le.classes_)   # ['Candidate' 'False' 'Planet']\n",
    "# now y_encoded = [0, 1, 2]\n",
    "from sklearn.model_selection import train_test_split\n",
    "\n"
   ]
  },
  {
   "cell_type": "markdown",
   "id": "b6784ec9-4ff8-4a98-95ef-03fded6e3590",
   "metadata": {},
   "source": [
    "# log transformations to stabilize distributions "
   ]
  },
  {
   "cell_type": "markdown",
   "id": "7e93a61f-b0f4-49f1-af96-5e657da5162a",
   "metadata": {},
   "source": [
    "*Many features (orbital period) are highly skewed, we could reduce influence of extreme values, make distributions closer to normal.*"
   ]
  },
  {
   "cell_type": "code",
   "execution_count": 13,
   "id": "7e1bcb43-45bd-4eb7-ba75-446da58e8f43",
   "metadata": {},
   "outputs": [],
   "source": [
    "df[\"log_orbper\"] = np.log1p(df[\"pl_orbper\"])\n",
    "df['sqrt_pl_rade']=np.sqrt(df['pl_rade']) #small rocky vs giant planets, can linearize relation with depth.\n",
    "df['log_trandep'] = np.log1p(df['pl_trandep']*1e6)"
   ]
  },
  {
   "cell_type": "markdown",
   "id": "2e4fea11-30b2-44f3-bed3-5c48dbe6520f",
   "metadata": {},
   "source": [
    "# Ratios&Normalizations (instead of raw numbers)"
   ]
  },
  {
   "cell_type": "code",
   "execution_count": 14,
   "id": "7303f15a-e660-456c-abb5-1f72c2d5d39c",
   "metadata": {},
   "outputs": [],
   "source": [
    "df[\"rel_radius\"] = df[\"pl_rade\"] / df[\"st_rad\"] #Planet radius / star radius= relative planet size\n",
    "df[\"depth_norm\"] = df[\"pl_trandep\"] / df[\"st_rad\"] #Transit depth / stellar radius=signal relative to star size\n",
    "df['compactness'] = df['pl_orbper'] / df['st_rad'] #Orbital Compactness. Encodes how “close-in” the planet is relative to star size."
   ]
  },
  {
   "cell_type": "markdown",
   "id": "64223163-eaf8-4068-9543-ea0441fef06b",
   "metadata": {},
   "source": [
    "# PrincipalComponentAnalysis"
   ]
  },
  {
   "cell_type": "markdown",
   "id": "175e224a-3983-489a-a660-0f41712765eb",
   "metadata": {},
   "source": [
    "*linear combinations of features that capture maximum variance, mathematical compression*\n",
    "Noise reduction: Instead of keeping 50 noisy features, you keep top 5 PCs explaining ~70% variance.\n",
    "Pattern detection: Sometimes clusters separate more cleanly in PC-space than raw space.\n",
    "Feature compression: PCs can be added as new engineered features alongside physical ones."
   ]
  },
  {
   "cell_type": "code",
   "execution_count": 15,
   "id": "c3a1b6a6-53f7-462e-adc8-2620d37cc4cd",
   "metadata": {},
   "outputs": [
    {
     "data": {
      "image/png": "[encoded data removed]",
      "text/plain": [
       "<Figure size 800x600 with 1 Axes>"
      ]
     },
     "metadata": {},
     "output_type": "display_data"
    }
   ],
   "source": [
    "from sklearn.decomposition import PCA\n",
    "pca = PCA(n_components=5)\n",
    "X_pca = pca.fit_transform(X_scaled)\n",
    "for i in range(5):\n",
    "    df[f\"pca_{i+1}\"] = X_pca[:, i]\n",
    "\n",
    "\n",
    "plt.figure(figsize=(8,6))\n",
    "for label in y.unique():\n",
    "    idx = (y == label)\n",
    "    plt.scatter(df.loc[idx, \"pca_1\"], df.loc[idx, \"pca_2\"], alpha=0.6, label=label)\n",
    "\n",
    "plt.xlabel(\"PCA 1\")\n",
    "plt.ylabel(\"PCA 2\")\n",
    "plt.title(\"PCA Projection (2D)\")\n",
    "plt.legend()\n",
    "plt.show()\n"
   ]
  },
  {
   "cell_type": "markdown",
   "id": "efebeb64-8bc4-408d-8424-8b8f20466d1f",
   "metadata": {},
   "source": [
    "# Baseline Models"
   ]
  },
  {
   "cell_type": "markdown",
   "id": "9901ea7f-3eb9-4849-b278-5edb388cc747",
   "metadata": {},
   "source": [
    "**Logistic Regression, Random Forest Classifier, XGBoost**"
   ]
  },
  {
   "cell_type": "code",
   "execution_count": 16,
   "id": "ac5a54fc-4576-4125-9456-e41fbb3d17e2",
   "metadata": {},
   "outputs": [],
   "source": [
    "y = df[\"disp_3class\"]\n",
    "from sklearn.model_selection import train_test_split\n",
    "\n",
    "X_train, X_test, y_train, y_test = train_test_split(\n",
    "    X_scaled, y_encoded, test_size=0.2, stratify=y, random_state=42\n",
    ")"
   ]
  },
  {
   "cell_type": "code",
   "execution_count": 32,
   "id": "36ea2490-6dc4-4ce9-8ba4-f08d9cbbe745",
   "metadata": {},
   "outputs": [],
   "source": [
    "from sklearn.linear_model import LogisticRegression\n",
    "\n",
    "logreg = LogisticRegression(max_iter=500, class_weight=\"balanced\", random_state=42)\n",
    "logreg.fit(X_train, y_train)\n",
    "y_pred_logreg = logreg.predict(X_test)\n",
    "y_prob_logreg = logreg.predict_proba(X_test)"
   ]
  },
  {
   "cell_type": "code",
   "execution_count": 18,
   "id": "57f086b1-9563-4636-a638-d77b558d77bb",
   "metadata": {},
   "outputs": [],
   "source": [
    "from sklearn.ensemble import RandomForestClassifier\n",
    "\n",
    "rf = RandomForestClassifier(n_estimators=200, random_state=42, class_weight=\"balanced\")\n",
    "rf.fit(X_train, y_train)\n",
    "\n",
    "y_pred_rf = rf.predict(X_test)\n",
    "y_prob_rf = rf.predict_proba(X_test)"
   ]
  },
  {
   "cell_type": "code",
   "execution_count": 19,
   "id": "15c68699-4519-4d69-9d7f-a1ca0782df5b",
   "metadata": {},
   "outputs": [
    {
     "name": "stderr",
     "output_type": "stream",
     "text": [
      "C:\\Users\\Влада\\AppData\\Local\\Programs\\Python\\Python313\\Lib\\site-packages\\xgboost\\training.py:183: UserWarning: [11:53:08] WARNING: C:\\actions-runner\\_work\\xgboost\\xgboost\\src\\learner.cc:738: \n",
      "Parameters: { \"use_label_encoder\" } are not used.\n",
      "\n",
      "  bst.update(dtrain, iteration=i, fobj=obj)\n"
     ]
    }
   ],
   "source": [
    "from xgboost import XGBClassifier\n",
    "\n",
    "xgb = XGBClassifier(\n",
    "    n_estimators=200,\n",
    "    learning_rate=0.1,\n",
    "    max_depth=6,\n",
    "    subsample=0.8,\n",
    "    colsample_bytree=0.8,\n",
    "    use_label_encoder=True,\n",
    "    eval_metric=\"mlogloss\",\n",
    "    random_state=42\n",
    ")\n",
    "xgb.fit(X_train, y_train)\n",
    "\n",
    "y_pred_xgb = xgb.predict(X_test)\n",
    "y_prob_xgb = xgb.predict_proba(X_test)"
   ]
  },
  {
   "cell_type": "markdown",
   "id": "b059beeb-0261-44dd-864e-4449c67e25f0",
   "metadata": {},
   "source": [
    "**Neural Network Model**"
   ]
  },
  {
   "cell_type": "code",
   "execution_count": 27,
   "id": "09129231-4a5d-4581-93d0-9a5c1bd5e0bf",
   "metadata": {},
   "outputs": [
    {
     "data": {
      "text/html": [
       "<pre style=\"white-space:pre;overflow-x:auto;line-height:normal;font-family:Menlo,'DejaVu Sans Mono',consolas,'Courier New',monospace\"><span style=\"font-weight: bold\">Model: \"sequential\"</span>\n",
       "</pre>\n"
      ],
      "text/plain": [
       "\u001b[1mModel: \"sequential\"\u001b[0m\n"
      ]
     },
     "metadata": {},
     "output_type": "display_data"
    },
    {
     "data": {
      "text/html": [
       "<pre style=\"white-space:pre;overflow-x:auto;line-height:normal;font-family:Menlo,'DejaVu Sans Mono',consolas,'Courier New',monospace\">┏━━━━━━━━━━━━━━━━━━━━━━━━━━━━━━━━━━━━━━┳━━━━━━━━━━━━━━━━━━━━━━━━━━━━━┳━━━━━━━━━━━━━━━━━┓\n",
       "┃<span style=\"font-weight: bold\"> Layer (type)                         </span>┃<span style=\"font-weight: bold\"> Output Shape                </span>┃<span style=\"font-weight: bold\">         Param # </span>┃\n",
       "┡━━━━━━━━━━━━━━━━━━━━━━━━━━━━━━━━━━━━━━╇━━━━━━━━━━━━━━━━━━━━━━━━━━━━━╇━━━━━━━━━━━━━━━━━┩\n",
       "│ dense (<span style=\"color: #0087ff; text-decoration-color: #0087ff\">Dense</span>)                        │ (<span style=\"color: #00d7ff; text-decoration-color: #00d7ff\">None</span>, <span style=\"color: #00af00; text-decoration-color: #00af00\">64</span>)                  │           <span style=\"color: #00af00; text-decoration-color: #00af00\">2,112</span> │\n",
       "├──────────────────────────────────────┼─────────────────────────────┼─────────────────┤\n",
       "│ dropout (<span style=\"color: #0087ff; text-decoration-color: #0087ff\">Dropout</span>)                    │ (<span style=\"color: #00d7ff; text-decoration-color: #00d7ff\">None</span>, <span style=\"color: #00af00; text-decoration-color: #00af00\">64</span>)                  │               <span style=\"color: #00af00; text-decoration-color: #00af00\">0</span> │\n",
       "├──────────────────────────────────────┼─────────────────────────────┼─────────────────┤\n",
       "│ dense_1 (<span style=\"color: #0087ff; text-decoration-color: #0087ff\">Dense</span>)                      │ (<span style=\"color: #00d7ff; text-decoration-color: #00d7ff\">None</span>, <span style=\"color: #00af00; text-decoration-color: #00af00\">32</span>)                  │           <span style=\"color: #00af00; text-decoration-color: #00af00\">2,080</span> │\n",
       "├──────────────────────────────────────┼─────────────────────────────┼─────────────────┤\n",
       "│ dropout_1 (<span style=\"color: #0087ff; text-decoration-color: #0087ff\">Dropout</span>)                  │ (<span style=\"color: #00d7ff; text-decoration-color: #00d7ff\">None</span>, <span style=\"color: #00af00; text-decoration-color: #00af00\">32</span>)                  │               <span style=\"color: #00af00; text-decoration-color: #00af00\">0</span> │\n",
       "├──────────────────────────────────────┼─────────────────────────────┼─────────────────┤\n",
       "│ dense_2 (<span style=\"color: #0087ff; text-decoration-color: #0087ff\">Dense</span>)                      │ (<span style=\"color: #00d7ff; text-decoration-color: #00d7ff\">None</span>, <span style=\"color: #00af00; text-decoration-color: #00af00\">3</span>)                   │              <span style=\"color: #00af00; text-decoration-color: #00af00\">99</span> │\n",
       "└──────────────────────────────────────┴─────────────────────────────┴─────────────────┘\n",
       "</pre>\n"
      ],
      "text/plain": [
       "┏━━━━━━━━━━━━━━━━━━━━━━━━━━━━━━━━━━━━━━┳━━━━━━━━━━━━━━━━━━━━━━━━━━━━━┳━━━━━━━━━━━━━━━━━┓\n",
       "┃\u001b[1m \u001b[0m\u001b[1mLayer (type)                        \u001b[0m\u001b[1m \u001b[0m┃\u001b[1m \u001b[0m\u001b[1mOutput Shape               \u001b[0m\u001b[1m \u001b[0m┃\u001b[1m \u001b[0m\u001b[1m        Param #\u001b[0m\u001b[1m \u001b[0m┃\n",
       "┡━━━━━━━━━━━━━━━━━━━━━━━━━━━━━━━━━━━━━━╇━━━━━━━━━━━━━━━━━━━━━━━━━━━━━╇━━━━━━━━━━━━━━━━━┩\n",
       "│ dense (\u001b[38;5;33mDense\u001b[0m)                        │ (\u001b[38;5;45mNone\u001b[0m, \u001b[38;5;34m64\u001b[0m)                  │           \u001b[38;5;34m2,112\u001b[0m │\n",
       "├──────────────────────────────────────┼─────────────────────────────┼─────────────────┤\n",
       "│ dropout (\u001b[38;5;33mDropout\u001b[0m)                    │ (\u001b[38;5;45mNone\u001b[0m, \u001b[38;5;34m64\u001b[0m)                  │               \u001b[38;5;34m0\u001b[0m │\n",
       "├──────────────────────────────────────┼─────────────────────────────┼─────────────────┤\n",
       "│ dense_1 (\u001b[38;5;33mDense\u001b[0m)                      │ (\u001b[38;5;45mNone\u001b[0m, \u001b[38;5;34m32\u001b[0m)                  │           \u001b[38;5;34m2,080\u001b[0m │\n",
       "├──────────────────────────────────────┼─────────────────────────────┼─────────────────┤\n",
       "│ dropout_1 (\u001b[38;5;33mDropout\u001b[0m)                  │ (\u001b[38;5;45mNone\u001b[0m, \u001b[38;5;34m32\u001b[0m)                  │               \u001b[38;5;34m0\u001b[0m │\n",
       "├──────────────────────────────────────┼─────────────────────────────┼─────────────────┤\n",
       "│ dense_2 (\u001b[38;5;33mDense\u001b[0m)                      │ (\u001b[38;5;45mNone\u001b[0m, \u001b[38;5;34m3\u001b[0m)                   │              \u001b[38;5;34m99\u001b[0m │\n",
       "└──────────────────────────────────────┴─────────────────────────────┴─────────────────┘\n"
      ]
     },
     "metadata": {},
     "output_type": "display_data"
    },
    {
     "data": {
      "text/html": [
       "<pre style=\"white-space:pre;overflow-x:auto;line-height:normal;font-family:Menlo,'DejaVu Sans Mono',consolas,'Courier New',monospace\"><span style=\"font-weight: bold\"> Total params: </span><span style=\"color: #00af00; text-decoration-color: #00af00\">4,291</span> (16.76 KB)\n",
       "</pre>\n"
      ],
      "text/plain": [
       "\u001b[1m Total params: \u001b[0m\u001b[38;5;34m4,291\u001b[0m (16.76 KB)\n"
      ]
     },
     "metadata": {},
     "output_type": "display_data"
    },
    {
     "data": {
      "text/html": [
       "<pre style=\"white-space:pre;overflow-x:auto;line-height:normal;font-family:Menlo,'DejaVu Sans Mono',consolas,'Courier New',monospace\"><span style=\"font-weight: bold\"> Trainable params: </span><span style=\"color: #00af00; text-decoration-color: #00af00\">4,291</span> (16.76 KB)\n",
       "</pre>\n"
      ],
      "text/plain": [
       "\u001b[1m Trainable params: \u001b[0m\u001b[38;5;34m4,291\u001b[0m (16.76 KB)\n"
      ]
     },
     "metadata": {},
     "output_type": "display_data"
    },
    {
     "data": {
      "text/html": [
       "<pre style=\"white-space:pre;overflow-x:auto;line-height:normal;font-family:Menlo,'DejaVu Sans Mono',consolas,'Courier New',monospace\"><span style=\"font-weight: bold\"> Non-trainable params: </span><span style=\"color: #00af00; text-decoration-color: #00af00\">0</span> (0.00 B)\n",
       "</pre>\n"
      ],
      "text/plain": [
       "\u001b[1m Non-trainable params: \u001b[0m\u001b[38;5;34m0\u001b[0m (0.00 B)\n"
      ]
     },
     "metadata": {},
     "output_type": "display_data"
    }
   ],
   "source": [
    "import tensorflow as tf\n",
    "from tensorflow import keras\n",
    "from tensorflow.keras import layers\n",
    "\n",
    "n_features = X.shape[1]\n",
    "n_classes = len(set(y_encoded))\n",
    "\n",
    "nn_model = keras.Sequential([\n",
    "    layers.Input(shape=(n_features,)),\n",
    "    layers.Dense(64, activation=\"relu\"),\n",
    "    layers.Dropout(0.3),\n",
    "    layers.Dense(32, activation=\"relu\"),\n",
    "    layers.Dropout(0.3),\n",
    "    layers.Dense(n_classes, activation=\"softmax\")\n",
    "])\n",
    "\n",
    "nn_model.compile(\n",
    "    optimizer=\"adam\",\n",
    "    loss=\"sparse_categorical_crossentropy\",\n",
    "    metrics=[\"accuracy\"]\n",
    ")\n",
    "\n",
    "nn_model.summary()\n"
   ]
  },
  {
   "cell_type": "code",
   "execution_count": 28,
   "id": "e690cd4b-d1af-4c11-b0b5-d4bb2e5b0883",
   "metadata": {},
   "outputs": [
    {
     "name": "stdout",
     "output_type": "stream",
     "text": [
      "NN ROC AUC (cv mean): 0.7802966550160723\n",
      "NN F1 Score (cv mean): 0.5008402276325717\n"
     ]
    }
   ],
   "source": [
    "from sklearn.model_selection import StratifiedKFold\n",
    "from sklearn.metrics import roc_auc_score, f1_score, confusion_matrix, classification_report\n",
    "import numpy as np\n",
    "\n",
    "skf = StratifiedKFold(n_splits=5, shuffle=True, random_state=42)\n",
    "\n",
    "auc_scores, f1_scores = [], []\n",
    "\n",
    "for train_idx, test_idx in skf.split(X_scaled, y_encoded):\n",
    "    X_train, X_test = X_scaled[train_idx], X_scaled[test_idx]\n",
    "    y_train, y_test = y_encoded[train_idx], y_encoded[test_idx]\n",
    "    \n",
    "    # build fresh model each fold\n",
    "    nn_model = keras.Sequential([\n",
    "        layers.Input(shape=(n_features,)),\n",
    "        layers.Dense(64, activation=\"relu\"),\n",
    "        layers.Dropout(0.3),\n",
    "        layers.Dense(32, activation=\"relu\"),\n",
    "        layers.Dropout(0.3),\n",
    "        layers.Dense(n_classes, activation=\"softmax\")\n",
    "    ])\n",
    "    nn_model.compile(optimizer=\"adam\", loss=\"sparse_categorical_crossentropy\")\n",
    "    \n",
    "    nn_model.fit(X_train, y_train, epochs=20, batch_size=32, verbose=0)\n",
    "    \n",
    "    # predictions\n",
    "    y_proba = nn_model.predict(X_test, verbose=0)\n",
    "    y_pred = np.argmax(y_proba, axis=1)\n",
    "    \n",
    "    # metrics\n",
    "    auc = roc_auc_score(y_test, y_proba, multi_class=\"ovr\")\n",
    "    f1 = f1_score(y_test, y_pred, average=\"macro\")\n",
    "    \n",
    "    auc_scores.append(auc)\n",
    "    f1_scores.append(f1)\n",
    "\n",
    "print(\"NN ROC AUC (cv mean):\", np.mean(auc_scores))\n",
    "print(\"NN F1 Score (cv mean):\", np.mean(f1_scores))\n"
   ]
  },
  {
   "cell_type": "code",
   "execution_count": 30,
   "id": "5a0dc0c0-fe26-489b-b7db-bb2b69f2bf22",
   "metadata": {},
   "outputs": [
    {
     "name": "stdout",
     "output_type": "stream",
     "text": [
      "              precision    recall  f1-score   support\n",
      "\n",
      "   Candidate       0.86      0.55      0.67      1028\n",
      "       False       0.39      0.66      0.49       259\n",
      "      Planet       0.43      0.75      0.54       253\n",
      "\n",
      "    accuracy                           0.60      1540\n",
      "   macro avg       0.56      0.65      0.57      1540\n",
      "weighted avg       0.71      0.60      0.62      1540\n",
      "\n",
      "ROC AUC: 0.7984934282107904\n"
     ]
    },
    {
     "data": {
      "image/png": "[encoded data removed]",
      "text/plain": [
       "<Figure size 640x480 with 2 Axes>"
      ]
     },
     "metadata": {},
     "output_type": "display_data"
    }
   ],
   "source": [
    "# Final train/test split\n",
    "from sklearn.model_selection import train_test_split\n",
    "\n",
    "X_train, X_test, y_train, y_test = train_test_split(\n",
    "    X_scaled, y_encoded, test_size=0.2, stratify=y_encoded, random_state=42\n",
    ")\n",
    "\n",
    "# Build final NN\n",
    "nn_model = keras.Sequential([\n",
    "    layers.Input(shape=(n_features,)),\n",
    "    layers.Dense(64, activation=\"relu\"),\n",
    "    layers.Dropout(0.3),\n",
    "    layers.Dense(32, activation=\"relu\"),\n",
    "    layers.Dropout(0.3),\n",
    "    layers.Dense(n_classes, activation=\"softmax\")\n",
    "])\n",
    "nn_model.compile(optimizer=\"adam\", loss=\"sparse_categorical_crossentropy\")\n",
    "from sklearn.utils.class_weight import compute_class_weight\n",
    "\n",
    "\n",
    "class_weights = dict(zip(\n",
    "    np.unique(y_train),\n",
    "    compute_class_weight(\"balanced\", classes=np.unique(y_train), y=y_train)\n",
    "))\n",
    "nn_model.fit(X_train, y_train, epochs=30, batch_size=32, class_weight=class_weights, verbose=0)\n",
    "\n",
    "# Predictions\n",
    "y_proba = nn_model.predict(X_test, verbose=0)\n",
    "y_pred = np.argmax(y_proba, axis=1)\n",
    "\n",
    "print(classification_report(y_test, y_pred, target_names=le.classes_))\n",
    "print(\"ROC AUC:\", roc_auc_score(y_test, y_proba, multi_class=\"ovr\"))\n",
    "\n",
    "import seaborn as sns\n",
    "import matplotlib.pyplot as plt\n",
    "cm = confusion_matrix(y_test, y_pred)\n",
    "sns.heatmap(cm, annot=True, fmt=\"d\", cmap=\"Blues\", xticklabels=le.classes_, yticklabels=le.classes_)\n",
    "plt.xlabel(\"Predicted\")\n",
    "plt.ylabel(\"True\")\n",
    "plt.title(\"NN Confusion Matrix\")\n",
    "plt.show()\n"
   ]
  },
  {
   "cell_type": "markdown",
   "id": "5490e2c3-c386-4621-b8e7-1d7ff81314fa",
   "metadata": {},
   "source": [
    "# Evaluation"
   ]
  },
  {
   "cell_type": "markdown",
   "id": "090b72f2-2da9-4247-9fd0-27bc0863b271",
   "metadata": {},
   "source": [
    "Cross Validation Scores"
   ]
  },
  {
   "cell_type": "code",
   "execution_count": 20,
   "id": "bb1be7fd-7683-4cdd-9f8c-68c5ba74e576",
   "metadata": {},
   "outputs": [
    {
     "name": "stdout",
     "output_type": "stream",
     "text": [
      "LogReg ROC AUC (cv mean): 0.713\n",
      "RandomForest ROC AUC (cv mean): 0.800\n"
     ]
    },
    {
     "name": "stderr",
     "output_type": "stream",
     "text": [
      "C:\\Users\\Влада\\AppData\\Local\\Programs\\Python\\Python313\\Lib\\site-packages\\xgboost\\training.py:183: UserWarning: [11:53:54] WARNING: C:\\actions-runner\\_work\\xgboost\\xgboost\\src\\learner.cc:738: \n",
      "Parameters: { \"use_label_encoder\" } are not used.\n",
      "\n",
      "  bst.update(dtrain, iteration=i, fobj=obj)\n",
      "C:\\Users\\Влада\\AppData\\Local\\Programs\\Python\\Python313\\Lib\\site-packages\\xgboost\\training.py:183: UserWarning: [11:53:55] WARNING: C:\\actions-runner\\_work\\xgboost\\xgboost\\src\\learner.cc:738: \n",
      "Parameters: { \"use_label_encoder\" } are not used.\n",
      "\n",
      "  bst.update(dtrain, iteration=i, fobj=obj)\n",
      "C:\\Users\\Влада\\AppData\\Local\\Programs\\Python\\Python313\\Lib\\site-packages\\xgboost\\training.py:183: UserWarning: [11:53:57] WARNING: C:\\actions-runner\\_work\\xgboost\\xgboost\\src\\learner.cc:738: \n",
      "Parameters: { \"use_label_encoder\" } are not used.\n",
      "\n",
      "  bst.update(dtrain, iteration=i, fobj=obj)\n",
      "C:\\Users\\Влада\\AppData\\Local\\Programs\\Python\\Python313\\Lib\\site-packages\\xgboost\\training.py:183: UserWarning: [11:53:58] WARNING: C:\\actions-runner\\_work\\xgboost\\xgboost\\src\\learner.cc:738: \n",
      "Parameters: { \"use_label_encoder\" } are not used.\n",
      "\n",
      "  bst.update(dtrain, iteration=i, fobj=obj)\n",
      "C:\\Users\\Влада\\AppData\\Local\\Programs\\Python\\Python313\\Lib\\site-packages\\xgboost\\training.py:183: UserWarning: [11:54:00] WARNING: C:\\actions-runner\\_work\\xgboost\\xgboost\\src\\learner.cc:738: \n",
      "Parameters: { \"use_label_encoder\" } are not used.\n",
      "\n",
      "  bst.update(dtrain, iteration=i, fobj=obj)\n"
     ]
    },
    {
     "name": "stdout",
     "output_type": "stream",
     "text": [
      "XGBoost ROC AUC (cv mean): 0.805\n"
     ]
    }
   ],
   "source": [
    "from sklearn.model_selection import cross_val_score\n",
    "\n",
    "for model, name in [(logreg, \"LogReg\"), (rf, \"RandomForest\"), (xgb, \"XGBoost\")]:\n",
    "    scores = cross_val_score(model, X_scaled, y_encoded, cv=5, scoring=\"roc_auc_ovr\")\n",
    "    print(f\"{name} ROC AUC (cv mean): {scores.mean():.3f}\")\n"
   ]
  },
  {
   "cell_type": "code",
   "execution_count": 21,
   "id": "1f0f60e8-5e6d-49f4-a791-2f3e614c6a18",
   "metadata": {},
   "outputs": [],
   "source": [
    "from sklearn.metrics import confusion_matrix, roc_auc_score, precision_recall_fscore_support"
   ]
  },
  {
   "cell_type": "markdown",
   "id": "7c06f9e8-d990-4a47-9eef-2d3249f4d96c",
   "metadata": {},
   "source": [
    "*Confusion Matrix*"
   ]
  },
  {
   "cell_type": "code",
   "execution_count": 22,
   "id": "9c3b723c-e6bc-48f4-9b2b-f7e6f45742d1",
   "metadata": {},
   "outputs": [
    {
     "name": "stdout",
     "output_type": "stream",
     "text": [
      "Logistic Regression Confusion Matrix:\n",
      " [[562 178 288]\n",
      " [ 70 130  59]\n",
      " [ 49  26 178]]\n",
      "Random Forest Confusion Matrix:\n",
      " [[978  15  35]\n",
      " [203  55   1]\n",
      " [142   1 110]]\n",
      "XGBoost Confusion Matrix:\n",
      " [[943  41  44]\n",
      " [148 105   6]\n",
      " [113   5 135]]\n"
     ]
    }
   ],
   "source": [
    "cm_logreg = confusion_matrix(y_test, y_pred_logreg)\n",
    "print(\"Logistic Regression Confusion Matrix:\\n\", cm_logreg)\n",
    "\n",
    "cm_rf = confusion_matrix(y_test, y_pred_rf)\n",
    "print(\"Random Forest Confusion Matrix:\\n\", cm_rf)\n",
    "\n",
    "cm_xgb = confusion_matrix(y_test, y_pred_xgb)\n",
    "print(\"XGBoost Confusion Matrix:\\n\", cm_xgb)\n"
   ]
  },
  {
   "cell_type": "markdown",
   "id": "e9ac5834-cf2d-45b4-8249-10b3859a4afc",
   "metadata": {},
   "source": [
    "*ROC AUC*"
   ]
  },
  {
   "cell_type": "code",
   "execution_count": 25,
   "id": "33ed936d-4740-474e-8d01-6a15af02d62e",
   "metadata": {},
   "outputs": [
    {
     "name": "stdout",
     "output_type": "stream",
     "text": [
      "Logistic Regression ROC AUC: 0.738\n",
      "Random Forest ROC AUC: 0.842\n",
      "XGBoost ROC AUC: 0.842\n"
     ]
    }
   ],
   "source": [
    "roc_auc_logreg = roc_auc_score(y_test, y_prob_logreg, multi_class=\"ovr\")\n",
    "print(f\"Logistic Regression ROC AUC: {roc_auc_logreg:.3f}\")\n",
    "\n",
    "roc_auc_rf = roc_auc_score(y_test, y_prob_rf, multi_class=\"ovr\")\n",
    "print(f\"Random Forest ROC AUC: {roc_auc_rf:.3f}\")\n",
    "\n",
    "roc_auc_xgb = roc_auc_score(y_test, y_prob_xgb, multi_class=\"ovr\")\n",
    "print(f\"XGBoost ROC AUC: {roc_auc_rf:.3f}\")"
   ]
  },
  {
   "cell_type": "markdown",
   "id": "c1b998a4-0643-4f6e-961e-65528ce6c389",
   "metadata": {},
   "source": [
    "*Precision Recall F1*"
   ]
  },
  {
   "cell_type": "code",
   "execution_count": 24,
   "id": "5d701b16-97ba-4727-b982-7fc3be599cbf",
   "metadata": {},
   "outputs": [
    {
     "name": "stdout",
     "output_type": "stream",
     "text": [
      "Logistic Regression Precision: 0.672, Recall: 0.565, F1: 0.588\n",
      "Random Forest Precision: 0.748, Recall: 0.742, F1: 0.702\n",
      "XGBoost Precision: 0.760, Recall: 0.768, F1: 0.751\n"
     ]
    }
   ],
   "source": [
    "precision_logreg, recall_logreg, f1_logreg, _ = precision_recall_fscore_support(y_test, y_pred_logreg, average=\"weighted\")\n",
    "print(f\"Logistic Regression Precision: {precision_logreg:.3f}, Recall: {recall_logreg:.3f}, F1: {f1_logreg:.3f}\")\n",
    "\n",
    "precision_rf, recall_rf, f1_rf, _ = precision_recall_fscore_support(y_test, y_pred_rf, average=\"weighted\")\n",
    "print(f\"Random Forest Precision: {precision_rf:.3f}, Recall: {recall_rf:.3f}, F1: {f1_rf:.3f}\")\n",
    "\n",
    "precision_xgb, recall_xgb, f1_xgb, _ = precision_recall_fscore_support(y_test, y_pred_xgb, average=\"weighted\")\n",
    "print(f\"XGBoost Precision: {precision_xgb:.3f}, Recall: {recall_xgb:.3f}, F1: {f1_xgb:.3f}\")"
   ]
  },
  {
   "cell_type": "markdown",
   "id": "77c3b674-77ca-4607-ba99-a67b90b6289e",
   "metadata": {},
   "source": [
    "# Ensemble"
   ]
  },
  {
   "cell_type": "markdown",
   "id": "075db21a-c2a1-4b6a-836c-73bb55eb8f47",
   "metadata": {},
   "source": [
    "*1st version*"
   ]
  },
  {
   "cell_type": "code",
   "execution_count": 41,
   "id": "e2995a6e-70fa-46c2-8fe6-e8cd9b883ca8",
   "metadata": {},
   "outputs": [
    {
     "name": "stderr",
     "output_type": "stream",
     "text": [
      "C:\\Users\\Влада\\AppData\\Local\\Programs\\Python\\Python313\\Lib\\site-packages\\xgboost\\training.py:183: UserWarning: [12:41:43] WARNING: C:\\actions-runner\\_work\\xgboost\\xgboost\\src\\learner.cc:738: \n",
      "Parameters: { \"use_label_encoder\" } are not used.\n",
      "\n",
      "  bst.update(dtrain, iteration=i, fobj=obj)\n"
     ]
    },
    {
     "name": "stdout",
     "output_type": "stream",
     "text": [
      "\u001b[1m49/49\u001b[0m \u001b[32m━━━━━━━━━━━━━━━━━━━━\u001b[0m\u001b[37m\u001b[0m \u001b[1m0s\u001b[0m 2ms/step \n",
      "              precision    recall  f1-score   support\n",
      "\n",
      "           0       0.75      0.95      0.84      1028\n",
      "           1       0.75      0.26      0.39       259\n",
      "           2       0.73      0.44      0.55       253\n",
      "\n",
      "    accuracy                           0.75      1540\n",
      "   macro avg       0.74      0.55      0.59      1540\n",
      "weighted avg       0.75      0.75      0.71      1540\n",
      "\n",
      "Confusion matrix:\n",
      " [[973  20  35]\n",
      " [185  68   6]\n",
      " [138   3 112]]\n",
      "ROC AUC: 0.851655833844943\n"
     ]
    }
   ],
   "source": [
    "from sklearn.ensemble import VotingClassifier\n",
    "from sklearn.linear_model import LogisticRegression\n",
    "from sklearn.ensemble import RandomForestClassifier\n",
    "from xgboost import XGBClassifier\n",
    "\n",
    "\n",
    "# --- Fit traditional models ---\n",
    "log_reg.fit(X_train, y_train)\n",
    "rf.fit(X_train, y_train)\n",
    "xgb.fit(X_train, y_train)\n",
    "\n",
    "# --- Train NN separately ---\n",
    "nn_model.fit(X_train, y_train, epochs=20, batch_size=32, verbose=0)\n",
    "\n",
    "# --- Get prediction probabilities ---\n",
    "proba_lr = log_reg.predict_proba(X_test)\n",
    "proba_rf = rf.predict_proba(X_test)\n",
    "proba_xgb = xgb.predict_proba(X_test)\n",
    "proba_nn = nn_model.predict(X_test)\n",
    "\n",
    "# --- Simple soft voting (average) ---\n",
    "proba_ensemble = (proba_lr + proba_rf + proba_xgb + proba_nn) / 4\n",
    "y_pred_ensemble = np.argmax(proba_ensemble, axis=1)\n",
    "\n",
    "# --- Evaluate ---\n",
    "from sklearn.metrics import classification_report, confusion_matrix, roc_auc_score\n",
    "print(classification_report(y_test, y_pred_ensemble))\n",
    "\n",
    "cm = confusion_matrix(y_test, y_pred_ensemble)\n",
    "print(\"Confusion matrix:\\n\", cm)\n",
    "\n",
    "roc_auc = roc_auc_score(y_test, proba_ensemble, multi_class=\"ovr\")\n",
    "print(\"ROC AUC:\", roc_auc)\n"
   ]
  },
  {
   "cell_type": "markdown",
   "id": "51eb0ce1-7035-4e6d-94a7-e9913412a4ec",
   "metadata": {},
   "source": [
    "*2nd Version*"
   ]
  },
  {
   "cell_type": "code",
   "execution_count": 43,
   "id": "eaada07c-222f-429d-be8b-eb9241ccaf73",
   "metadata": {},
   "outputs": [
    {
     "name": "stderr",
     "output_type": "stream",
     "text": [
      "C:\\Users\\Влада\\AppData\\Local\\Programs\\Python\\Python313\\Lib\\site-packages\\xgboost\\training.py:183: UserWarning: [12:51:10] WARNING: C:\\actions-runner\\_work\\xgboost\\xgboost\\src\\learner.cc:738: \n",
      "Parameters: { \"use_label_encoder\" } are not used.\n",
      "\n",
      "  bst.update(dtrain, iteration=i, fobj=obj)\n"
     ]
    },
    {
     "name": "stdout",
     "output_type": "stream",
     "text": [
      "              precision    recall  f1-score   support\n",
      "\n",
      "           0       0.78      0.92      0.84      1028\n",
      "           1       0.73      0.38      0.50       259\n",
      "           2       0.69      0.52      0.59       253\n",
      "\n",
      "    accuracy                           0.76      1540\n",
      "   macro avg       0.73      0.61      0.65      1540\n",
      "weighted avg       0.75      0.76      0.74      1540\n",
      "\n",
      "Confusion matrix:\n",
      " [[943  34  51]\n",
      " [152  99   8]\n",
      " [118   3 132]]\n",
      "ROC AUC: 0.8524780666283722\n"
     ]
    }
   ],
   "source": [
    "from sklearn.ensemble import VotingClassifier\n",
    "from sklearn.linear_model import LogisticRegression\n",
    "from sklearn.ensemble import RandomForestClassifier\n",
    "from xgboost import XGBClassifier\n",
    "\n",
    "\n",
    "# --- Fit traditional models ---\n",
    "log_reg.fit(X_train, y_train)\n",
    "rf.fit(X_train, y_train)\n",
    "xgb.fit(X_train, y_train)\n",
    "\n",
    "# --- Train NN separately ---\n",
    "nn_model.fit(X_train, y_train, epochs=20, batch_size=32, verbose=0)\n",
    "\n",
    "proba_ensemble = (\n",
    "    0.25 * proba_lr +\n",
    "    0.25 * proba_rf +\n",
    "    0.25 * proba_xgb +\n",
    "    0.25 * proba_nn\n",
    ")\n",
    "\n",
    "# Try rebalancing\n",
    "weights = np.array([1.0, 1.3, 1.3])   # boost False & Planet\n",
    "proba_ensemble *= weights\n",
    "proba_ensemble = proba_ensemble / proba_ensemble.sum(axis=1, keepdims=True)\n",
    "y_pred_ensemble = np.argmax(proba_ensemble, axis=1)\n",
    "\n",
    "# --- Evaluate ---\n",
    "from sklearn.metrics import classification_report, confusion_matrix, roc_auc_score\n",
    "print(classification_report(y_test, y_pred_ensemble))\n",
    "\n",
    "cm = confusion_matrix(y_test, y_pred_ensemble)\n",
    "print(\"Confusion matrix:\\n\", cm)\n",
    "\n",
    "roc_auc = roc_auc_score(y_test, proba_ensemble, multi_class=\"ovr\")\n",
    "print(\"ROC AUC:\", roc_auc)\n"
   ]
  },
  {
   "cell_type": "markdown",
   "id": "211f123d-30f3-463a-a2d1-5ef5eb96459a",
   "metadata": {},
   "source": [
    "*3rd Version*"
   ]
  },
  {
   "cell_type": "code",
   "execution_count": 47,
   "id": "db2dc730-c8db-4923-ab88-e5023ae8973b",
   "metadata": {},
   "outputs": [
    {
     "name": "stderr",
     "output_type": "stream",
     "text": [
      "C:\\Users\\Влада\\AppData\\Local\\Programs\\Python\\Python313\\Lib\\site-packages\\keras\\src\\layers\\core\\dense.py:92: UserWarning: Do not pass an `input_shape`/`input_dim` argument to a layer. When using Sequential models, prefer using an `Input(shape)` object as the first layer in the model instead.\n",
      "  super().__init__(activity_regularizer=activity_regularizer, **kwargs)\n",
      "C:\\Users\\Влада\\AppData\\Local\\Programs\\Python\\Python313\\Lib\\site-packages\\xgboost\\training.py:183: UserWarning: [13:03:48] WARNING: C:\\actions-runner\\_work\\xgboost\\xgboost\\src\\learner.cc:738: \n",
      "Parameters: { \"use_label_encoder\" } are not used.\n",
      "\n",
      "  bst.update(dtrain, iteration=i, fobj=obj)\n"
     ]
    },
    {
     "name": "stdout",
     "output_type": "stream",
     "text": [
      "\n",
      "=== Classification Report (Stacked Ensemble) ===\n",
      "              precision    recall  f1-score   support\n",
      "\n",
      "           0       0.79      0.91      0.84      1028\n",
      "           1       0.71      0.43      0.54       259\n",
      "           2       0.69      0.53      0.60       253\n",
      "\n",
      "    accuracy                           0.77      1540\n",
      "   macro avg       0.73      0.62      0.66      1540\n",
      "weighted avg       0.76      0.77      0.75      1540\n",
      "\n",
      "Confusion matrix:\n",
      "[[934  41  53]\n",
      " [140 112   7]\n",
      " [114   4 135]]\n",
      "ROC AUC: 0.832427848856315\n"
     ]
    }
   ],
   "source": [
    "\n",
    "from tensorflow.keras.models import Sequential\n",
    "from tensorflow.keras.layers import Dense, Dropout\n",
    "from tensorflow.keras.utils import to_categorical\n",
    "\n",
    "# Neural Net\n",
    "nn = Sequential([\n",
    "    Dense(64, activation='relu', input_dim=X_train.shape[1]),\n",
    "    Dropout(0.3),\n",
    "    Dense(32, activation='relu'),\n",
    "    Dense(len(np.unique(y_train)), activation='softmax')\n",
    "])\n",
    "nn.compile(optimizer='adam', loss='categorical_crossentropy', metrics=['accuracy'])\n",
    "\n",
    "lr.fit(X_train, y_train)\n",
    "rf.fit(X_train, y_train)\n",
    "xgb.fit(X_train, y_train)\n",
    "\n",
    "# Neural net expects one-hot encoded targets\n",
    "y_train_cat = to_categorical(y_train)\n",
    "y_test_cat = to_categorical(y_test)\n",
    "nn.fit(X_train, y_train_cat, epochs=20, batch_size=32, verbose=0)\n",
    "\n",
    "#. Generate meta-features ===\n",
    "proba_lr_train = lr.predict_proba(X_train)\n",
    "proba_rf_train = rf.predict_proba(X_train)\n",
    "proba_xgb_train = xgb.predict_proba(X_train)\n",
    "proba_nn_train = nn.predict(X_train, verbose=0)\n",
    "\n",
    "proba_lr_test = lr.predict_proba(X_test)\n",
    "proba_rf_test = rf.predict_proba(X_test)\n",
    "proba_xgb_test = xgb.predict_proba(X_test)\n",
    "proba_nn_test = nn.predict(X_test, verbose=0)\n",
    "\n",
    "# Stack them horizontally to form new datasets\n",
    "X_meta_train = np.hstack([proba_lr_train, proba_rf_train, proba_xgb_train, proba_nn_train])\n",
    "X_meta_test = np.hstack([proba_lr_test, proba_rf_test, proba_xgb_test, proba_nn_test])\n",
    "\n",
    "#Train meta-model\n",
    "meta_model = LogisticRegression(max_iter=1000)\n",
    "meta_model.fit(X_meta_train, y_train)\n",
    "\n",
    "# Evaluate\n",
    "y_pred_meta = meta_model.predict(X_meta_test)\n",
    "y_proba_meta = meta_model.predict_proba(X_meta_test)\n",
    "\n",
    "print(\"\\n=== Classification Report (Stacked Ensemble) ===\")\n",
    "print(classification_report(y_test, y_pred_meta, digits=2))\n",
    "\n",
    "print(\"Confusion matrix:\")\n",
    "print(confusion_matrix(y_test, y_pred_meta))\n",
    "\n",
    "roc_auc = roc_auc_score(y_test, y_proba_meta, multi_class='ovr')\n",
    "print(\"ROC AUC:\", roc_auc)\n"
   ]
  },
  {
   "cell_type": "code",
   "execution_count": null,
   "id": "803edea9-30f9-4664-9ade-8e35e1571063",
   "metadata": {},
   "outputs": [],
   "source": []
  }
 ],
 "metadata": {
  "kernelspec": {
   "display_name": "Python 3 (ipykernel)",
   "language": "python",
   "name": "python3"
  },
  "language_info": {
   "codemirror_mode": {
    "name": "ipython",
    "version": 3
   },
   "file_extension": ".py",
   "mimetype": "text/x-python",
   "name": "python",
   "nbconvert_exporter": "python",
   "pygments_lexer": "ipython3",
   "version": "3.13.0"
  }
 },
 "nbformat": 4,
 "nbformat_minor": 5
}
